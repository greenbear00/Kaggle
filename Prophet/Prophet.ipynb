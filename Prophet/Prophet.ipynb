{
 "cells": [
  {
   "cell_type": "code",
   "execution_count": 1,
   "id": "7af759e9",
   "metadata": {},
   "outputs": [
    {
     "name": "stdout",
     "output_type": "stream",
     "text": [
      "Defaulting to user installation because normal site-packages is not writeable\n",
      "Requirement already satisfied: pystan==2.18.0.0 in /home/greenbear/.local/lib/python3.6/site-packages (2.18.0.0)\n",
      "Requirement already satisfied: numpy>=1.7 in /home/greenbear/.local/lib/python3.6/site-packages (from pystan==2.18.0.0) (1.19.5)\n",
      "Requirement already satisfied: Cython!=0.25.1,>=0.22 in /home/greenbear/.local/lib/python3.6/site-packages (from pystan==2.18.0.0) (0.29.23)\n",
      "Defaulting to user installation because normal site-packages is not writeable\n",
      "Requirement already satisfied: fbprophet in /home/greenbear/.local/lib/python3.6/site-packages (0.7.1)\n",
      "Requirement already satisfied: Cython>=0.22 in /home/greenbear/.local/lib/python3.6/site-packages (from fbprophet) (0.29.23)\n",
      "Requirement already satisfied: cmdstanpy==0.9.5 in /home/greenbear/.local/lib/python3.6/site-packages (from fbprophet) (0.9.5)\n",
      "Requirement already satisfied: pystan>=2.14 in /home/greenbear/.local/lib/python3.6/site-packages (from fbprophet) (2.18.0.0)\n",
      "Requirement already satisfied: numpy>=1.15.4 in /home/greenbear/.local/lib/python3.6/site-packages (from fbprophet) (1.19.5)\n",
      "Requirement already satisfied: pandas>=1.0.4 in /home/greenbear/.local/lib/python3.6/site-packages (from fbprophet) (1.1.5)\n",
      "Requirement already satisfied: matplotlib>=2.0.0 in /home/greenbear/.local/lib/python3.6/site-packages (from fbprophet) (3.3.4)\n",
      "Requirement already satisfied: LunarCalendar>=0.0.9 in /home/greenbear/.local/lib/python3.6/site-packages (from fbprophet) (0.0.9)\n",
      "Requirement already satisfied: convertdate>=2.1.2 in /home/greenbear/.local/lib/python3.6/site-packages (from fbprophet) (2.3.2)\n",
      "Requirement already satisfied: holidays>=0.10.2 in /home/greenbear/.local/lib/python3.6/site-packages (from fbprophet) (0.11.1)\n",
      "Requirement already satisfied: setuptools-git>=1.2 in /home/greenbear/.local/lib/python3.6/site-packages (from fbprophet) (1.2)\n",
      "Requirement already satisfied: python-dateutil>=2.8.0 in /usr/local/lib/python3.6/site-packages (from fbprophet) (2.8.1)\n",
      "Requirement already satisfied: tqdm>=4.36.1 in /home/greenbear/.local/lib/python3.6/site-packages (from fbprophet) (4.61.1)\n",
      "Requirement already satisfied: pymeeus<=1,>=0.3.13 in /home/greenbear/.local/lib/python3.6/site-packages (from convertdate>=2.1.2->fbprophet) (0.5.11)\n",
      "Requirement already satisfied: pytz>=2014.10 in /home/greenbear/.local/lib/python3.6/site-packages (from convertdate>=2.1.2->fbprophet) (2021.1)\n",
      "Requirement already satisfied: korean-lunar-calendar in /home/greenbear/.local/lib/python3.6/site-packages (from holidays>=0.10.2->fbprophet) (0.2.1)\n",
      "Requirement already satisfied: hijri-converter in /home/greenbear/.local/lib/python3.6/site-packages (from holidays>=0.10.2->fbprophet) (2.1.3)\n",
      "Requirement already satisfied: six in /usr/local/lib/python3.6/site-packages (from holidays>=0.10.2->fbprophet) (1.16.0)\n",
      "Requirement already satisfied: ephem>=3.7.5.3 in /home/greenbear/.local/lib/python3.6/site-packages (from LunarCalendar>=0.0.9->fbprophet) (4.0.0.2)\n",
      "Requirement already satisfied: pyparsing!=2.0.4,!=2.1.2,!=2.1.6,>=2.0.3 in /usr/local/lib/python3.6/site-packages (from matplotlib>=2.0.0->fbprophet) (2.4.7)\n",
      "Requirement already satisfied: cycler>=0.10 in /home/greenbear/.local/lib/python3.6/site-packages (from matplotlib>=2.0.0->fbprophet) (0.10.0)\n",
      "Requirement already satisfied: kiwisolver>=1.0.1 in /home/greenbear/.local/lib/python3.6/site-packages (from matplotlib>=2.0.0->fbprophet) (1.3.1)\n",
      "Requirement already satisfied: pillow>=6.2.0 in /home/greenbear/.local/lib/python3.6/site-packages (from matplotlib>=2.0.0->fbprophet) (8.2.0)\n"
     ]
    }
   ],
   "source": [
    "# 페이스북이 개발한 일변량(하나의 변수) 시계열 예측을 위한 오픈소스 라이브러리\n",
    "# additive time series forecasting model을 참고해서 구현됨\n",
    "# 그리고 경향성(Trends), 계절성(seasonality), 휴일(holidays)을 지원하는 모델\n",
    "\n",
    "# fbprophet설치시, \n",
    "!pip install pystan==2.18.0.0\n",
    "!pip install fbprophet\n",
    "!pip install plotly"
   ]
  },
  {
   "cell_type": "code",
   "execution_count": 95,
   "id": "db136f96",
   "metadata": {},
   "outputs": [
    {
     "name": "stdout",
     "output_type": "stream",
     "text": [
      "0.7.1\n"
     ]
    }
   ],
   "source": [
    "# 버전 확인하기\n",
    "import fbprophet\n",
    "print(fbprophet.__version__)"
   ]
  },
  {
   "cell_type": "code",
   "execution_count": 96,
   "id": "80e78ebc",
   "metadata": {},
   "outputs": [
    {
     "name": "stdout",
     "output_type": "stream",
     "text": [
      "(108, 2)\n",
      "     Month  Sales\n",
      "0  1960-01   6550\n",
      "1  1960-02   8728\n",
      "2  1960-03  12026\n",
      "3  1960-04  14395\n",
      "4  1960-05  14587\n"
     ]
    }
   ],
   "source": [
    "# perphet기본 개념 참고 예제) https://dining-developer.tistory.com/25 \n",
    "import pandas as pd\n",
    "path = 'https://raw.githubusercontent.com/jbrownlee/Datasets/master/monthly-car-sales.csv'\n",
    "df = pd.read_csv(path, header=0)\n",
    "print(df.shape)\n",
    "print(df.head())"
   ]
  },
  {
   "cell_type": "code",
   "execution_count": 97,
   "id": "36365186",
   "metadata": {},
   "outputs": [
    {
     "name": "stderr",
     "output_type": "stream",
     "text": [
      "INFO:matplotlib.category:Using categorical units to plot a list of strings that are all parsable as floats or dates. If these strings should be plotted as numbers, cast to the appropriate data type before plotting.\n",
      "INFO:matplotlib.category:Using categorical units to plot a list of strings that are all parsable as floats or dates. If these strings should be plotted as numbers, cast to the appropriate data type before plotting.\n",
      "INFO:matplotlib.category:Using categorical units to plot a list of strings that are all parsable as floats or dates. If these strings should be plotted as numbers, cast to the appropriate data type before plotting.\n"
     ]
    },
    {
     "data": {
      "image/png": "[encoded data removed]",
      "text/plain": [
       "<Figure size 432x288 with 1 Axes>"
      ]
     },
     "metadata": {
      "needs_background": "light"
     },
     "output_type": "display_data"
    }
   ],
   "source": [
    "import matplotlib.pyplot as plt\n",
    "\n",
    "# x축의 데이터 일부분을 뿌려봄\n",
    "plt.plot(df['Month'], df['Sales'])\n",
    "plt.xticks([df['Month'].iloc[n] for n in range(0, df.shape[0], int(df.shape[0]*0.2))])\n",
    "plt.ylabel('Sales')\n",
    "plt.show()"
   ]
  },
  {
   "cell_type": "code",
   "execution_count": 98,
   "id": "15ab134f",
   "metadata": {},
   "outputs": [
    {
     "name": "stdout",
     "output_type": "stream",
     "text": [
      "True\n"
     ]
    }
   ],
   "source": [
    "# 우선 Month가 정말 정렬되어 있는지 확인하기 \n",
    "new_df = df.sort_values(by='Month')\n",
    "print((new_df['Month'].values==df['Month'].values).all())"
   ]
  },
  {
   "cell_type": "code",
   "execution_count": 103,
   "id": "22d84eea",
   "metadata": {},
   "outputs": [
    {
     "name": "stdout",
     "output_type": "stream",
     "text": [
      "     Month  Sales  New_Month\n",
      "0  1960-01   6550 1960-01-01\n",
      "1  1960-02   8728 1960-02-01\n",
      "2  1960-03  12026 1960-03-01\n",
      "3  1960-04  14395 1960-04-01\n",
      "4  1960-05  14587 1960-05-01\n"
     ]
    }
   ],
   "source": [
    "# from datetime import datetime\n",
    "# df['New_Month']= df['Month'].apply(lambda x: datetime.strptime(x, '%Y-%m'))\n",
    "df['New_Month'] = pd.to_datetime(df['Month'])\n",
    "print(df.head())"
   ]
  },
  {
   "cell_type": "code",
   "execution_count": 125,
   "id": "07d17af3",
   "metadata": {},
   "outputs": [
    {
     "name": "stderr",
     "output_type": "stream",
     "text": [
      "INFO:fbprophet:Disabling weekly seasonality. Run prophet with weekly_seasonality=True to override this.\n",
      "INFO:fbprophet:Disabling daily seasonality. Run prophet with daily_seasonality=True to override this.\n"
     ]
    },
    {
     "name": "stdout",
     "output_type": "stream",
     "text": [
      "         y         ds\n",
      "0     6550 1960-01-01\n",
      "1     8728 1960-02-01\n",
      "2    12026 1960-03-01\n",
      "3    14395 1960-04-01\n",
      "4    14587 1960-05-01\n",
      "..     ...        ...\n",
      "103  16722 1968-08-01\n",
      "104  14385 1968-09-01\n",
      "105  21342 1968-10-01\n",
      "106  17180 1968-11-01\n",
      "107  14577 1968-12-01\n",
      "\n",
      "[108 rows x 2 columns]\n",
      "Index(['y', 'ds'], dtype='object')\n",
      "y dtypes=  int64\n",
      "ds dtypes=  datetime64[ns]\n"
     ]
    },
    {
     "data": {
      "text/plain": [
       "<fbprophet.forecaster.Prophet at 0x7fe168b00a20>"
      ]
     },
     "execution_count": 125,
     "metadata": {},
     "output_type": "execute_result"
    }
   ],
   "source": [
    "# 모델 생성\n",
    "from fbprophet import Prophet\n",
    "model = Prophet()\n",
    "\n",
    "df.rename(columns = {'Sales':'y', 'Month':'ds'}, inplace=True)\n",
    "print(new_df)\n",
    "print(new_df.columns)\n",
    "print('y dtypes= ', new_df['y'].dtypes)\n",
    "print('ds dtypes= ', new_df['ds'].dtypes)\n",
    "# # # 모델 학습\n",
    "model.fit(df)"
   ]
  },
  {
   "cell_type": "code",
   "execution_count": null,
   "id": "d77d9e08",
   "metadata": {},
   "outputs": [],
   "source": []
  }
 ],
 "metadata": {
  "kernelspec": {
   "display_name": "Python 3",
   "language": "python",
   "name": "python3"
  },
  "language_info": {
   "codemirror_mode": {
    "name": "ipython",
    "version": 3
   },
   "file_extension": ".py",
   "mimetype": "text/x-python",
   "name": "python",
   "nbconvert_exporter": "python",
   "pygments_lexer": "ipython3",
   "version": "3.6.8"
  }
 },
 "nbformat": 4,
 "nbformat_minor": 5
}
