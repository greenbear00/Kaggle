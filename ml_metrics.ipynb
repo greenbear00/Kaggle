{
  "nbformat": 4,
  "nbformat_minor": 0,
  "metadata": {
    "colab": {
      "name": "머신러닝 모델 평가 지표.ipynb",
      "provenance": []
    },
    "kernelspec": {
      "name": "python3",
      "display_name": "Python 3"
    },
    "language_info": {
      "name": "python"
    }
  },
  "cells": [
    {
      "cell_type": "markdown",
      "metadata": {
        "id": "xM42wI58pVvR"
      },
      "source": [
        "# 머신러닝 모델 평가\n",
        "\n"
      ]
    },
    {
      "cell_type": "markdown",
      "metadata": {
        "id": "aPnb55PysjHI"
      },
      "source": [
        "## 분류(Classification) 모델에 대한 평가 지표\n"
      ]
    },
    {
      "cell_type": "markdown",
      "metadata": {
        "id": "vXC4rcoJsq_t"
      },
      "source": [
        "\n",
        "### 정확도 (accuracy)\n",
        "- 실제 데이터에서 예측 데이터가 얼마나 같은지를 판단하는 지표\n",
        "\n",
        "```\n",
        "from sklearn.metrics import accuracy_score\n",
        "# 실측값, 예측값을 넣어서 평가함\n",
        "accuracy_score(y_train, pred_train_dummy)\n",
        "```\n",
        "\n",
        "\n"
      ]
    },
    {
      "cell_type": "markdown",
      "metadata": {
        "id": "FaqfXBw7rLL6"
      },
      "source": [
        "### 오차 행렬 (Confusion Matrix)\n",
        "- 분류의 평가지표의 기준으로 사용됨\n",
        "- 오차행렬을 이용하여 다영한 평가지표(정확도, 재현율, 정밀도, F1점수, AUC)를 계산함\n",
        "- TP(True Positive)\n",
        "- TN(True Negative)\n",
        "- FP(False Positive)\n",
        "- FN(False Negative)\n",
        "\n",
        "```\n",
        "                          Predicted. \n",
        "                          Negative(0).   Positive(1). \n",
        "Actural.   Negative(0).   TN.            FP. \n",
        "           Positive(1).   FN.            TP.\n",
        "```\n",
        "\n"
      ]
    },
    {
      "cell_type": "markdown",
      "metadata": {
        "id": "Y_qpc_Myqt28"
      },
      "source": [
        "\n",
        "### 정밀도(Precision)\n",
        "\n",
        "- 예측한 것 중에서 정답의 비율 (즉, Positive로 예측한 경우 중, 실제로 Positive인 비율)\n",
        "- PPV(Positive Predictive Value)\n",
        "\n",
        "\n",
        "\n",
        "```\n",
        "from sklearn.metrics import precision_score\n",
        "precision_score(y_val, y_pred)\n",
        "```\n",
        "\n",
        "\n",
        "\n"
      ]
    },
    {
      "cell_type": "markdown",
      "metadata": {
        "id": "0MsMaCTBsyMZ"
      },
      "source": [
        "### 재현율(Recall)\n",
        "- Positive인 것 중에서 올바르게 Positive를 맞춘 비율\n",
        "- 민감도(Sensitivity) 혹은 TPR(True Positive Rate)\n",
        "\n",
        "\n",
        "\n",
        "```\n",
        "# recall\n",
        "from sklearn.metrics import recall_score\n",
        "\n",
        "# 전체 출력\n",
        "from sklearn.metrics import classification_report\n",
        "classification_report(y_val, y_pred)\n",
        "```\n",
        "\n"
      ]
    },
    {
      "cell_type": "markdown",
      "metadata": {
        "id": "p7PlaOSas1M3"
      },
      "source": [
        "### F1스코어\n",
        "- 정밀도(예측한 것 중에 정답의 비율)와 재현율(정답중에서 올바르게 예측한 정답의 비율)의 조화평균 점수\n",
        "- F1 Score 값이 높으면 성능이 높다고 할 수 있음\n",
        "\n",
        "\n",
        "\n",
        "```\n",
        "from sklearn.metrics import f1_score\n",
        "f1_score(y_test, y_pred)\n",
        "```\n",
        "\n"
      ]
    },
    {
      "cell_type": "markdown",
      "metadata": {
        "id": "8i5pmSivvpyJ"
      },
      "source": [
        "### ROC-AUC\n",
        "- ROC(Receiver Operating Characteristic)\n",
        "  - ROC Curve는 보통 binary claasification 또는 medical applicatin에서 많이 쓰는 성능 척도\n",
        "\n",
        "- AUC(Area Under the Curve)\n",
        "  - ROC 곡선 아래 영역\n",
        "  - AUC가 높다는 사실은 클래스를 구별하는 모델의 성능이 훌륭하다는 것을 의미\n",
        "\n",
        "참조: https://nittaku.tistory.com/297\n",
        "\n",
        "\n"
      ]
    },
    {
      "cell_type": "markdown",
      "metadata": {
        "id": "teu85RJlqy6X"
      },
      "source": [
        "## 회귀 모델에 대한 평가 지표\n",
        "참조: https://velog.io/@tyhlife/%EB%A8%B8%EC%8B%A0%EB%9F%AC%EB%8B%9D-%ED%9A%8C%EA%B7%80-%EB%AA%A8%EB%8D%B8%EC%9D%98-%ED%8F%89%EA%B0%80-%EC%A7%80%ED%91%9C\n"
      ]
    },
    {
      "cell_type": "markdown",
      "metadata": {
        "id": "iCMuaMrKxv3L"
      },
      "source": [
        "### MAE (Mean Absolute Error)\n",
        "- 모델의 예측값과 실제값의 차이를 모두 더한것의 평균\n",
        "- MSE보다 robust함."
      ]
    },
    {
      "cell_type": "markdown",
      "metadata": {
        "id": "0zJA6hDzuiGl"
      },
      "source": [
        "### MSE (Mean Squareed Error)\n",
        "- MAE의 (예측값-실제값)^2의 전체합의 평균\n",
        "- 특이치에 민감"
      ]
    },
    {
      "cell_type": "markdown",
      "metadata": {
        "id": "3pFgjzcIyL48"
      },
      "source": [
        "### RMSE (Root MEan Squared Error)\n",
        "- MSE에 root 씌움"
      ]
    },
    {
      "cell_type": "markdown",
      "metadata": {
        "id": "rCyVGQxGyTGL"
      },
      "source": [
        "### MAPE (Mean Absolute Percentage Error)\n",
        "- MAE를 퍼센트로 변환 "
      ]
    }
  ]
}