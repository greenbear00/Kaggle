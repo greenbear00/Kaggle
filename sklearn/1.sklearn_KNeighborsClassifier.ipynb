{
 "cells": [
  {
   "cell_type": "code",
   "execution_count": 15,
   "id": "34640d06",
   "metadata": {
    "ExecuteTime": {
     "end_time": "2021-07-14T13:48:05.325708Z",
     "start_time": "2021-07-14T13:48:05.322767Z"
    }
   },
   "outputs": [],
   "source": [
    "import numpy as np"
   ]
  },
  {
   "cell_type": "code",
   "execution_count": 16,
   "id": "4f08903b",
   "metadata": {
    "ExecuteTime": {
     "end_time": "2021-07-14T13:48:05.633921Z",
     "start_time": "2021-07-14T13:48:05.626670Z"
    }
   },
   "outputs": [],
   "source": [
    "fish_length = [25.4, 26.3, 26.5, 29.0, 29.0, 29.7, 29.7, 30.0, 30.0, 30.7, 31.0, 31.0, \n",
    "                31.5, 32.0, 32.0, 32.0, 33.0, 33.0, 33.5, 33.5, 34.0, 34.0, 34.5, 35.0, \n",
    "                35.0, 35.0, 35.0, 36.0, 36.0, 37.0, 38.5, 38.5, 39.5, 41.0, 41.0, 9.8, \n",
    "                10.5, 10.6, 11.0, 11.2, 11.3, 11.8, 11.8, 12.0, 12.2, 12.4, 13.0, 14.3, 15.0]\n",
    "fish_weight = [242.0, 290.0, 340.0, 363.0, 430.0, 450.0, 500.0, 390.0, 450.0, 500.0, 475.0, 500.0, \n",
    "                500.0, 340.0, 600.0, 600.0, 700.0, 700.0, 610.0, 650.0, 575.0, 685.0, 620.0, 680.0, \n",
    "                700.0, 725.0, 720.0, 714.0, 850.0, 1000.0, 920.0, 955.0, 925.0, 975.0, 950.0, 6.7, \n",
    "                7.5, 7.0, 9.7, 9.8, 8.7, 10.0, 9.9, 9.8, 12.2, 13.4, 12.2, 19.7, 19.9]"
   ]
  },
  {
   "cell_type": "code",
   "execution_count": 17,
   "id": "1efa15af",
   "metadata": {
    "ExecuteTime": {
     "end_time": "2021-07-14T13:48:05.960442Z",
     "start_time": "2021-07-14T13:48:05.955613Z"
    }
   },
   "outputs": [
    {
     "name": "stdout",
     "output_type": "stream",
     "text": [
      "[[ 25.4 242. ]\n",
      " [ 26.3 290. ]\n",
      " [ 26.5 340. ]]\n"
     ]
    }
   ],
   "source": [
    "# train_data를 np.column_stack으로 합치기\n",
    "fish_data = np.column_stack((fish_length, fish_weight))\n",
    "print(fish_data[:3])"
   ]
  },
  {
   "cell_type": "code",
   "execution_count": 18,
   "id": "e5db90a1",
   "metadata": {
    "ExecuteTime": {
     "end_time": "2021-07-14T13:48:06.173687Z",
     "start_time": "2021-07-14T13:48:06.168113Z"
    }
   },
   "outputs": [
    {
     "name": "stdout",
     "output_type": "stream",
     "text": [
      "[1. 1. 1.]\n"
     ]
    }
   ],
   "source": [
    "# target_data 생성 (35개의 1, 14개의 0)\n",
    "fish_target = np.concatenate((np.ones(35), np.zeros(14)))\n",
    "print(fish_target[:3])"
   ]
  },
  {
   "cell_type": "code",
   "execution_count": 19,
   "id": "ac3ed9c0",
   "metadata": {
    "ExecuteTime": {
     "end_time": "2021-07-14T13:48:06.377841Z",
     "start_time": "2021-07-14T13:48:06.369182Z"
    }
   },
   "outputs": [
    {
     "name": "stdout",
     "output_type": "stream",
     "text": [
      "(34, 2) (34,)\n",
      "(15, 2) (34,)\n",
      "[[ 29.7 500. ]\n",
      " [ 11.3   8.7]\n",
      " [ 35.  680. ]] [1. 0. 1.]\n"
     ]
    }
   ],
   "source": [
    "# sklearn에서 모델 훈련시킬때, train과 test 비율에 맞춰서 랜덤하게 추출해주는 함수\n",
    "from sklearn.model_selection import train_test_split\n",
    "x_train, x_test_train, y_target, y_test_target = \\\n",
    "    train_test_split(fish_data, fish_target, test_size=0.3) # 매개변수 test_size는 test비율을 의미\n",
    "print(x_train.shape, y_target.shape)\n",
    "print(x_test_train.shape, y_target.shape)\n",
    "print(x_train[:3], y_target[:3])"
   ]
  },
  {
   "cell_type": "code",
   "execution_count": 20,
   "id": "1e6bb7ea",
   "metadata": {
    "ExecuteTime": {
     "end_time": "2021-07-14T13:48:06.564657Z",
     "start_time": "2021-07-14T13:48:06.555881Z"
    }
   },
   "outputs": [
    {
     "data": {
      "text/plain": [
       "KNeighborsClassifier()"
      ]
     },
     "execution_count": 20,
     "metadata": {},
     "output_type": "execute_result"
    }
   ],
   "source": [
    "\"\"\"모델 생성\"\"\"\n",
    "# https://scikit-learn.org/stable/modules/classes.html#module-sklearn.neighbors\n",
    "# The sklearn.neighbors module implements the k-nearest neighbors algorithm.\n",
    "from sklearn.neighbors import KNeighborsClassifier\n",
    "kn = KNeighborsClassifier()\n",
    "kn.fit(x_train, y_target)"
   ]
  },
  {
   "cell_type": "code",
   "execution_count": 21,
   "id": "27379a81",
   "metadata": {
    "ExecuteTime": {
     "end_time": "2021-07-14T13:48:06.776277Z",
     "start_time": "2021-07-14T13:48:06.762188Z"
    }
   },
   "outputs": [
    {
     "name": "stdout",
     "output_type": "stream",
     "text": [
      "kn.score =  1.0\n",
      "y_pred==y_target =  1.0\n",
      "y_pred:  [1. 0. 0. 1. 1. 1. 1. 1. 1. 1. 1. 0. 1. 1. 0.]\n",
      "y_target:  [1. 0. 1. 1. 1. 0. 0. 1. 1. 1. 1. 1. 1. 0. 1. 1. 0. 1. 1. 1. 1. 1. 1. 0.\n",
      " 1. 0. 0. 1. 1. 0. 1. 0. 1. 1.]\n"
     ]
    }
   ],
   "source": [
    "# 내장된 score를 기반한 모델 정확도 확인\n",
    "print(\"kn.score = \", kn.score(x_test_train, y_test_target))\n",
    "\n",
    "# 예측후 직접 예측 정확도 계산\n",
    "y_pred = kn.predict(x_test_train)\n",
    "print(\"y_pred==y_target = \", np.mean(y_pred==y_test_target))\n",
    "print(\"y_pred: \", y_pred)\n",
    "print(\"y_target: \", y_target)"
   ]
  },
  {
   "cell_type": "code",
   "execution_count": 22,
   "id": "2b7ccac1",
   "metadata": {
    "ExecuteTime": {
     "end_time": "2021-07-14T13:48:07.443501Z",
     "start_time": "2021-07-14T13:48:07.309591Z"
    }
   },
   "outputs": [
    {
     "name": "stdout",
     "output_type": "stream",
     "text": [
      "[0.]\n"
     ]
    },
    {
     "data": {
      "image/png": "[encoded data removed]",
      "text/plain": [
       "<Figure size 432x288 with 1 Axes>"
      ]
     },
     "metadata": {
      "needs_background": "light"
     },
     "output_type": "display_data"
    }
   ],
   "source": [
    "# 예측 확인하기 [[25, 150]] 에 해당하는 값 확인\n",
    "print(kn.predict([[25,150]]))\n",
    "\n",
    "import matplotlib.pyplot as plt\n",
    "plt.scatter(x_train[:, 0], x_train[:,1]) # fish_data내에 x축은 fish_length, y축은 fish_weight\n",
    "plt.scatter(25, 150, marker='^')\n",
    "plt.xlabel(\"length\")\n",
    "plt.ylabel(\"weight\")\n",
    "plt.show()"
   ]
  },
  {
   "cell_type": "code",
   "execution_count": 23,
   "id": "7c9fdceb",
   "metadata": {
    "ExecuteTime": {
     "end_time": "2021-07-14T13:48:08.022283Z",
     "start_time": "2021-07-14T13:48:08.014845Z"
    }
   },
   "outputs": [
    {
     "name": "stdout",
     "output_type": "stream",
     "text": [
      "distances= [[ 92.00086956 130.48375378 130.73859415 137.17988191 140.00603558]], indexes= [[24  5 25 29 32]]\n"
     ]
    }
   ],
   "source": [
    "# 예측한 값에 대한 이웃까지의 거리와 이웃 샘플의 인덱스를 반환\n",
    "distances, indexes = kn.kneighbors([[25, 150]])\n",
    "print(f\"distances= {distances}, indexes= {indexes}\")"
   ]
  },
  {
   "cell_type": "code",
   "execution_count": 24,
   "id": "5db7823d",
   "metadata": {
    "ExecuteTime": {
     "end_time": "2021-07-14T13:48:09.143305Z",
     "start_time": "2021-07-14T13:48:08.996377Z"
    }
   },
   "outputs": [
    {
     "data": {
      "image/png": "[encoded data removed]",
      "text/plain": [
       "<Figure size 432x288 with 1 Axes>"
      ]
     },
     "metadata": {
      "needs_background": "light"
     },
     "output_type": "display_data"
    }
   ],
   "source": [
    "# 위 모델을 통해서 확인한 예측값의 distances와 indexes를 기준으로 그림 그려서 확인\n",
    "plt.scatter(x_train[:,0], x_train[:,1])\n",
    "plt.scatter(25, 150, marker='^')\n",
    "plt.scatter(x_train[indexes, 0], x_train[indexes, 1], marker='D')\n",
    "plt.xlabel(\"length\")\n",
    "plt.ylabel(\"weight\")\n",
    "plt.show()"
   ]
  },
  {
   "cell_type": "code",
   "execution_count": 25,
   "id": "bbfca65b",
   "metadata": {
    "ExecuteTime": {
     "end_time": "2021-07-14T13:48:12.333604Z",
     "start_time": "2021-07-14T13:48:12.195714Z"
    }
   },
   "outputs": [
    {
     "name": "stdout",
     "output_type": "stream",
     "text": [
      "41.0 1000.0\n"
     ]
    },
    {
     "data": {
      "image/png": "[encoded data removed]",
      "text/plain": [
       "<Figure size 432x288 with 1 Axes>"
      ]
     },
     "metadata": {
      "needs_background": "light"
     },
     "output_type": "display_data"
    }
   ],
   "source": [
    "# 훈련데이터에 대한 정규화가 안되어 있기 때문에 x,y에 대해서 동일한 비율로 그림 그려보기 \n",
    "\n",
    "print(max(x_train[:,0]), max(x_train[:,1]))\n",
    "\n",
    "plt.scatter(x_train[:, 0], x_train[:,1])\n",
    "plt.scatter(25, 150, marker='^')\n",
    "plt.scatter(x_train[indexes, 0], x_train[indexes, 1], marker='D')\n",
    "plt.xlim( (0,925))# x에 해당하는 length x_train[:,0]은 최대값이 39.5, y에 해당하는 x_train[:,1] (weight)값은 최대 925이기에 비율 맞춤\n",
    "plt.xlabel(\"length\")\n",
    "plt.ylabel(\"weight\")\n",
    "plt.show()"
   ]
  },
  {
   "cell_type": "code",
   "execution_count": 26,
   "id": "8ea85220",
   "metadata": {
    "ExecuteTime": {
     "end_time": "2021-07-14T13:48:13.281528Z",
     "start_time": "2021-07-14T13:48:13.147091Z"
    }
   },
   "outputs": [
    {
     "name": "stdout",
     "output_type": "stream",
     "text": [
      "[[ 0.26734862  0.16931183]\n",
      " [-1.52529123 -1.30479357]\n",
      " [ 0.78370684  0.70938708]]\n"
     ]
    },
    {
     "data": {
      "image/png": "[encoded data removed]",
      "text/plain": [
       "<Figure size 432x288 with 1 Axes>"
      ]
     },
     "metadata": {
      "needs_background": "light"
     },
     "output_type": "display_data"
    }
   ],
   "source": [
    "# 데이터에 대한 정규화 처리\n",
    "mean = np.mean(x_train, axis=0) # length와 weight 에 대해서 각각 행 기준으로 \n",
    "std = np.std(x_train, axis=0)\n",
    "\n",
    "x_train_scaled = (x_train-mean)/std\n",
    "print(x_train_scaled[:3])\n",
    "\n",
    "new = ([25, 150]-mean) /std # 예측값에 대해서도 정규화 처리\n",
    "plt.scatter(x_train_scaled[:, 0], x_train_scaled[:,1])\n",
    "plt.scatter(new[0], new[1], marker='^')\n",
    "plt.xlabel(\"length\")\n",
    "plt.ylabel(\"weight\")\n",
    "plt.show()"
   ]
  },
  {
   "cell_type": "code",
   "execution_count": 27,
   "id": "d36a0a10",
   "metadata": {
    "ExecuteTime": {
     "end_time": "2021-07-14T13:48:15.002859Z",
     "start_time": "2021-07-14T13:48:14.993065Z"
    }
   },
   "outputs": [
    {
     "data": {
      "text/plain": [
       "1.0"
      ]
     },
     "execution_count": 27,
     "metadata": {},
     "output_type": "execute_result"
    }
   ],
   "source": [
    "kn.fit(x_train_scaled, y_target)\n",
    "\n",
    "# 훈련데이터로 모델 평가하기\n",
    "x_test_scaled = (x_test_train - mean)/ std\n",
    "kn.score(x_test_scaled, y_test_target)"
   ]
  },
  {
   "cell_type": "code",
   "execution_count": 28,
   "id": "011ef41a",
   "metadata": {
    "ExecuteTime": {
     "end_time": "2021-07-14T13:48:16.189154Z",
     "start_time": "2021-07-14T13:48:15.998952Z"
    }
   },
   "outputs": [
    {
     "name": "stdout",
     "output_type": "stream",
     "text": [
      "[1.]\n",
      "[[0.27877576 0.43873725 0.5885127  0.86939089 0.8888705 ]] [[24 32 33  9  7]]\n"
     ]
    },
    {
     "data": {
      "image/png": "[encoded data removed]",
      "text/plain": [
       "<Figure size 432x288 with 1 Axes>"
      ]
     },
     "metadata": {
      "needs_background": "light"
     },
     "output_type": "display_data"
    }
   ],
   "source": [
    "print(kn.predict([new]))\n",
    "distances, indexes = kn.kneighbors([new])\n",
    "print(distances, indexes)\n",
    "\n",
    "plt.scatter(x_train_scaled[:,0], x_train_scaled[:,1])\n",
    "plt.scatter(new[0], new[1], marker=\"^\")\n",
    "plt.scatter(x_train_scaled[indexes, 0], x_train_scaled[indexes, 1], marker=\"D\")\n",
    "plt.xlabel(\"length\")\n",
    "plt.ylabel(\"weight\")\n",
    "plt.show()"
   ]
  },
  {
   "cell_type": "code",
   "execution_count": null,
   "id": "2088e468",
   "metadata": {},
   "outputs": [],
   "source": []
  }
 ],
 "metadata": {
  "kernelspec": {
   "display_name": "Python 3",
   "language": "python",
   "name": "python3"
  },
  "language_info": {
   "codemirror_mode": {
    "name": "ipython",
    "version": 3
   },
   "file_extension": ".py",
   "mimetype": "text/x-python",
   "name": "python",
   "nbconvert_exporter": "python",
   "pygments_lexer": "ipython3",
   "version": "3.8.10"
  },
  "toc": {
   "base_numbering": 1,
   "nav_menu": {},
   "number_sections": false,
   "sideBar": true,
   "skip_h1_title": false,
   "title_cell": "Table of Contents",
   "title_sidebar": "Contents",
   "toc_cell": false,
   "toc_position": {},
   "toc_section_display": true,
   "toc_window_display": false
  }
 },
 "nbformat": 4,
 "nbformat_minor": 5
}
