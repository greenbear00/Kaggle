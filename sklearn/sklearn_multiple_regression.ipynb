{
  "nbformat": 4,
  "nbformat_minor": 0,
  "metadata": {
    "colab": {
      "name": "sklearn-feature-engineering.ipynb",
      "provenance": [],
      "collapsed_sections": [],
      "toc_visible": true
    },
    "kernelspec": {
      "name": "python3",
      "display_name": "Python 3"
    },
    "language_info": {
      "name": "python"
    }
  },
  "cells": [
    {
      "cell_type": "markdown",
      "metadata": {
        "id": "P5rbwb8z4ubV"
      },
      "source": [
        "# 다중회귀\n",
        "\n",
        "## Sample 데이터\n",
        "train X = length, height, width\n",
        "\n",
        "train Y = weight\n"
      ]
    },
    {
      "cell_type": "code",
      "metadata": {
        "colab": {
          "base_uri": "https://localhost:8080/"
        },
        "id": "FZqJFwzVmavV",
        "outputId": "9f1e1c7b-56ae-44c5-cc4c-b8634b388830"
      },
      "source": [
        "import pandas as pd\n",
        "import numpy as np\n",
        "\n",
        "# length, heigh, width\n",
        "pdf = pd.read_csv(\"http://bit.ly/perch_csv_data\") # length, height, width\n",
        "perch_full = pdf.to_numpy()\n",
        "\n",
        "perch_weight = np.array([5.9, 32.0, 40.0, 51.5, 70.0, 100.0, 78.0, 80.0, 85.0, 85.0, 110.0,\n",
        "       115.0, 125.0, 130.0, 120.0, 120.0, 130.0, 135.0, 110.0, 130.0,\n",
        "       150.0, 145.0, 150.0, 170.0, 225.0, 145.0, 188.0, 180.0, 197.0,\n",
        "       218.0, 300.0, 260.0, 265.0, 250.0, 250.0, 300.0, 320.0, 514.0,\n",
        "       556.0, 840.0, 685.0, 700.0, 700.0, 690.0, 900.0, 650.0, 820.0,\n",
        "       850.0, 900.0, 1015.0, 820.0, 1100.0, 1000.0, 1100.0, 1000.0,\n",
        "       1000.0])\n",
        "\n",
        "print(\"*\"*70)\n",
        "print(\"check data\")\n",
        "print(f\"train X = {perch_full[:3]}\")\n",
        "print(f\"train Y = {perch_weight[:3]}\")\n",
        "\n",
        "\n",
        "print(\"\\n\",\"*\"*70)\n",
        "print(\"split train and test data\")\n",
        "from sklearn.model_selection import train_test_split\n",
        "train_X, test_X, train_Y, test_Y = train_test_split(perch_full, perch_weight, random_state=42)\n",
        "print(\"train_X=\", train_X.shape, \", train_Y=\",train_Y.shape)\n",
        "print(\"test_X=\", test_X.shape, \", test_Y= \", test_Y.shape)"
      ],
      "execution_count": 48,
      "outputs": [
        {
          "output_type": "stream",
          "text": [
            "**********************************************************************\n",
            "check data\n",
            "train X = [[ 8.4   2.11  1.41]\n",
            " [13.7   3.53  2.  ]\n",
            " [15.    3.82  2.43]]\n",
            "train Y = [ 5.9 32.  40. ]\n",
            "\n",
            " **********************************************************************\n",
            "split train and test data\n",
            "train_X= (42, 3) , train_Y= (42,)\n",
            "test_X= (14, 3) , test_Y=  (14,)\n"
          ],
          "name": "stdout"
        }
      ]
    },
    {
      "cell_type": "markdown",
      "metadata": {
        "id": "P5YKv1Wc0X0O"
      },
      "source": [
        "## Sklearn's Transformer\n",
        "\n",
        "### PolynomialFeatures\n",
        "\n",
        "- 사이킷런에서 **특성을 만들거나 전처리를 하기 위한 다양한 클래스**를 transformer라고 함\n",
        "- fit(), trainsform() 이 존재\n",
        "- PolynomialFeatures\n",
        "  - include_bise(boolean, default=True): 절편의 생성 유무\n",
        "  - degree(int) : 특성을 제곱으로 생성함 \n"
      ]
    },
    {
      "cell_type": "code",
      "metadata": {
        "id": "Y6r4Qkc20ZQf",
        "colab": {
          "base_uri": "https://localhost:8080/"
        },
        "outputId": "fd490610-0e9b-427e-8632-a5884fb52ad5"
      },
      "source": [
        "from sklearn.preprocessing import PolynomialFeatures\n",
        "\n",
        "# bise를 False로 하면 bise가 제거됨 (만약 include_bise가 True일 경우, bise값이 제일 먼저 나옴)\n",
        "poly = PolynomialFeatures(include_bias=False) \n",
        "\n",
        "# 특성(X)값이 3->9개로 늘어남\n",
        "poly.fit(train_X)\n",
        "train_poly_X = poly.transform(train_X)\n",
        "print(\"apply polynomiaFeatures\")\n",
        "print(f\"train_X {train_X.shape} -- apply poly --> {train_poly_X.shape}\")\n",
        "\n",
        "test_poly_X = poly.transform(test_X)\n",
        "\n",
        "print(\"\\n\", \"*\"*70)\n",
        "print(f\"check features mean\")\n",
        "print(poly.get_feature_names())\n"
      ],
      "execution_count": 49,
      "outputs": [
        {
          "output_type": "stream",
          "text": [
            "apply polynomiaFeatures\n",
            "train_X (42, 3) -- apply poly --> (42, 9)\n",
            "\n",
            " **********************************************************************\n",
            "check features mean\n",
            "['x0', 'x1', 'x2', 'x0^2', 'x0 x1', 'x0 x2', 'x1^2', 'x1 x2', 'x2^2']\n"
          ],
          "name": "stdout"
        }
      ]
    },
    {
      "cell_type": "markdown",
      "metadata": {
        "id": "TH2Un7Yamkd8"
      },
      "source": [
        "## 다중 회귀 모델\n",
        "\n",
        "- 특성이 3개 이상일 경우, 다중 회귀 모델로 문제를 풀어야 함"
      ]
    },
    {
      "cell_type": "code",
      "metadata": {
        "id": "U4yZC3Sqnq2E",
        "colab": {
          "base_uri": "https://localhost:8080/"
        },
        "outputId": "968b68e4-303a-43d6-83d9-62f72b6111e2"
      },
      "source": [
        "from sklearn.linear_model import LinearRegression\n",
        "\n",
        "lr = LinearRegression()\n",
        "lr.fit(train_poly_X, train_Y)\n",
        "print(\"check score\")\n",
        "print(\"train's score: \", lr.score(train_poly_X, train_Y))\n",
        "print(\"test's score: \", lr.score(test_poly_X, test_Y))"
      ],
      "execution_count": 50,
      "outputs": [
        {
          "output_type": "stream",
          "text": [
            "check score\n",
            "train's score:  0.9903183436982124\n",
            "test's score:  0.9714559911594132\n"
          ],
          "name": "stdout"
        }
      ]
    },
    {
      "cell_type": "code",
      "metadata": {
        "colab": {
          "base_uri": "https://localhost:8080/"
        },
        "id": "zSpH2VSKAAhW",
        "outputId": "8eb65f8c-b475-4415-ba67-18163098cddf"
      },
      "source": [
        "poly = PolynomialFeatures(include_bias=False, degree=5) \n",
        "\n",
        "# 특성(X)값이 3->55개로 늘어남\n",
        "poly.fit(train_X)\n",
        "train_poly_X2 = poly.transform(train_X)\n",
        "print(\"apply polynomiaFeatures\")\n",
        "print(f\"train_X {train_X.shape} -- apply poly --> {train_poly_X2.shape}\")\n",
        "\n",
        "test_poly_X2 = poly.transform(test_X)\n",
        "\n",
        "# 특성이 많다고 꼭 좋은것만은 아님을 확인\n",
        "# train데이터에 너무 과대적합되어 test데이터에 잘못된 예측을 수행\n",
        "lr2 = LinearRegression()\n",
        "lr2.fit(train_poly_X2, train_Y)\n",
        "print(\"check score\")\n",
        "print(\"train's score: \", lr2.score(train_poly_X2, train_Y))\n",
        "print(\"test's score: \", lr2.score(test_poly_X2, test_Y))\n"
      ],
      "execution_count": 51,
      "outputs": [
        {
          "output_type": "stream",
          "text": [
            "apply polynomiaFeatures\n",
            "train_X (42, 3) -- apply poly --> (42, 55)\n",
            "check score\n",
            "train's score:  0.9999999999991096\n",
            "test's score:  -144.40579242335605\n"
          ],
          "name": "stdout"
        }
      ]
    },
    {
      "cell_type": "markdown",
      "metadata": {
        "id": "iCqb76ZP40RL"
      },
      "source": [
        "### 정규화\n",
        "- sklearn의 StandardScaler에서 정규화 지원"
      ]
    },
    {
      "cell_type": "code",
      "metadata": {
        "id": "B-Snd5O64tS_"
      },
      "source": [
        "from sklearn.preprocessing import StandardScaler\n",
        "\n",
        "# train 데이터로 StandardSCaler 모델 훈련\n",
        "ss = StandardScaler()\n",
        "ss.fit(train_poly_X)\n",
        "\n",
        "# 정규화\n",
        "train_poly_scaled_X = ss.transform(train_poly_X)\n",
        "test_poly_scaled_X = ss.transform(test_poly_X)"
      ],
      "execution_count": 52,
      "outputs": []
    },
    {
      "cell_type": "markdown",
      "metadata": {
        "id": "zzUXlHS56GXD"
      },
      "source": [
        "## 다중 회귀 모델\n",
        "- 릿지(ridge)와 라쏘(lasso) 중 릿지를 조금 더 선호\n",
        "- 둘 다 계수의 크기를 줄이지만, 라쏘는 아예 0으로 만들 수 있음\n",
        "\n"
      ]
    },
    {
      "cell_type": "markdown",
      "metadata": {
        "id": "dPFlKQ9-6jrd"
      },
      "source": [
        "### 릿지 회귀\n",
        "- 계수를 제곱한 값을 기준으로 규제를 적용\n",
        "- 선형 모델의 계수를 작게 만들어 과대적합을 완화시킴"
      ]
    },
    {
      "cell_type": "code",
      "metadata": {
        "colab": {
          "base_uri": "https://localhost:8080/"
        },
        "id": "AY2Ki5um6mli",
        "outputId": "bcb80d1c-bf43-4dea-9fb2-ce0e489e6894"
      },
      "source": [
        "from sklearn.linear_model import Ridge\n",
        "\n",
        "ridge = Ridge()\n",
        "ridge.fit(train_poly_scaled_X, train_Y)\n",
        "\n",
        "print(\"Ridge's Score\")\n",
        "print(f\"Train's Score: {ridge.score(train_poly_scaled_X, train_Y)}\")\n",
        "print(f\"Test's Score: {ridge.score(test_poly_scaled_X, test_Y)}\")"
      ],
      "execution_count": 53,
      "outputs": [
        {
          "output_type": "stream",
          "text": [
            "Ridge's Score\n",
            "Train's Score: 0.9857915060511934\n",
            "Test's Score: 0.9835057194929057\n"
          ],
          "name": "stdout"
        }
      ]
    },
    {
      "cell_type": "markdown",
      "metadata": {
        "id": "06katkmE-XQv"
      },
      "source": [
        "- ridge에서 계수를 조절할 수 있는 alpha 값을 변동하면서 결과 확인하기"
      ]
    },
    {
      "cell_type": "code",
      "metadata": {
        "colab": {
          "base_uri": "https://localhost:8080/",
          "height": 295
        },
        "id": "VKX9jkJh7QMa",
        "outputId": "dc9dd4f3-570d-44f7-ddbe-34097542cf20"
      },
      "source": [
        "import matplotlib.pyplot as plt\n",
        "import numpy as np\n",
        "train_score = []\n",
        "test_score = []\n",
        "\n",
        "# 릿지의 alpha값을 통해 규제의 강도를 조절\n",
        "alpha_list = [0.001, 0.01, 0.1, 1, 10, 100]\n",
        "for alpha in alpha_list:\n",
        "  ridge = Ridge(alpha = alpha)\n",
        "  ridge.fit(train_poly_scaled_X, train_Y)\n",
        "\n",
        "  train_score.append( ridge.score(train_poly_scaled_X, train_Y))\n",
        "  test_score.append( ridge.score(test_poly_scaled_X, test_Y))\n",
        "\n",
        "plt.plot(np.log10(alpha_list), train_score)\n",
        "plt.plot(np.log10(alpha_list), test_score)\n",
        "plt.legend(['train_score', 'test_score'])\n",
        "plt.xlabel('alpha')\n",
        "plt.ylabel('R^2 (score)')\n",
        "plt.title(\"Ridge's train/test score\")\n",
        "plt.show()"
      ],
      "execution_count": 54,
      "outputs": [
        {
          "output_type": "display_data",
          "data": {
            "image/png": "[encoded data removed]",
            "text/plain": [
              "<Figure size 432x288 with 1 Axes>"
            ]
          },
          "metadata": {
            "tags": [],
            "needs_background": "light"
          }
        }
      ]
    },
    {
      "cell_type": "markdown",
      "metadata": {
        "id": "dItWoQDc-Whf"
      },
      "source": [
        "- 최종 ridge 모델 선정"
      ]
    },
    {
      "cell_type": "code",
      "metadata": {
        "colab": {
          "base_uri": "https://localhost:8080/"
        },
        "id": "BGB3xnEj-fYb",
        "outputId": "d7fbf0d4-b864-4bbd-f25d-9f2cc15e0ee2"
      },
      "source": [
        "ridge = Ridge(alpha=0.01)\n",
        "ridge.fit(train_poly_scaled_X, train_Y)\n",
        "\n",
        "print(\"Ridge's Score\")\n",
        "print(f\"Train's Score: {ridge.score(train_poly_scaled_X, train_Y)}\")\n",
        "print(f\"Test's Score: {ridge.score(test_poly_scaled_X, test_Y)}\")"
      ],
      "execution_count": 55,
      "outputs": [
        {
          "output_type": "stream",
          "text": [
            "Ridge's Score\n",
            "Train's Score: 0.9893635642716538\n",
            "Test's Score: 0.9839375394503871\n"
          ],
          "name": "stdout"
        }
      ]
    },
    {
      "cell_type": "markdown",
      "metadata": {
        "id": "Xf-FV2cn6m3q"
      },
      "source": [
        "### 라쏘 회귀\n",
        "- 계수의 절대값을 기준으로 규제를 적용\n",
        "- 최적의 계수를 찾기 위해 반복적인 계산을 수행"
      ]
    },
    {
      "cell_type": "code",
      "metadata": {
        "colab": {
          "base_uri": "https://localhost:8080/"
        },
        "id": "k7gJ_j5O8_RN",
        "outputId": "b691d19e-0a2a-4422-d44c-55dd354ddc68"
      },
      "source": [
        "from sklearn.linear_model import Lasso\n",
        "\n",
        "lasso = Lasso()\n",
        "lasso.fit(train_poly_scaled_X, train_Y)\n",
        "\n",
        "\n",
        "print(\"Rosso's Score\")\n",
        "print(f\"Train's Score: {lasso.score(train_poly_scaled_X, train_Y)}\")\n",
        "print(f\"Test's Score: {lasso.score(test_poly_scaled_X, test_Y)}\")"
      ],
      "execution_count": 56,
      "outputs": [
        {
          "output_type": "stream",
          "text": [
            "Rosso's Score\n",
            "Train's Score: 0.9865912554645588\n",
            "Test's Score: 0.9846056618190413\n"
          ],
          "name": "stdout"
        }
      ]
    },
    {
      "cell_type": "code",
      "metadata": {
        "colab": {
          "base_uri": "https://localhost:8080/",
          "height": 349
        },
        "id": "IMM6Aj2y9K3t",
        "outputId": "e88222f9-8c15-4441-f33a-75867b9c3a57"
      },
      "source": [
        "train_score = []\n",
        "test_score = []\n",
        "\n",
        "# Lasso의 alpha값을 통해 규제의 강도를 조절\n",
        "alpha_list = [0.001, 0.01, 0.1, 1, 10, 100]\n",
        "for alpha in alpha_list:\n",
        "  lasso = Lasso(alpha = alpha, max_iter=100000)\n",
        "  lasso.fit(train_poly_scaled_X, train_Y)\n",
        "\n",
        "  train_score.append( lasso.score(train_poly_scaled_X, train_Y))\n",
        "  test_score.append( lasso.score(test_poly_scaled_X, test_Y))\n",
        "\n",
        "plt.plot(np.log10(alpha_list), train_score)\n",
        "plt.plot(np.log10(alpha_list), test_score)\n",
        "plt.legend(['train_score', 'test_score'])\n",
        "plt.xlabel('alpha')\n",
        "plt.ylabel('R^2 (score)')\n",
        "plt.title(\"Lasso train/test score\")\n",
        "plt.show()\n",
        "\n",
        "# warring 중 ConvergenceWarning은 최적의 계수를 찾기 위해 반복적인 계산을 수행하는데, 반복이 부족할 경우 발생\n",
        "# 이때, max_iter를 높이면 됨"
      ],
      "execution_count": 57,
      "outputs": [
        {
          "output_type": "stream",
          "text": [
            "/usr/local/lib/python3.7/dist-packages/sklearn/linear_model/_coordinate_descent.py:476: ConvergenceWarning: Objective did not converge. You might want to increase the number of iterations. Duality gap: 19687.16876738501, tolerance: 518.2793833333334\n",
            "  positive)\n"
          ],
          "name": "stderr"
        },
        {
          "output_type": "display_data",
          "data": {
            "image/png": "[encoded data removed]",
            "text/plain": [
              "<Figure size 432x288 with 1 Axes>"
            ]
          },
          "metadata": {
            "tags": [],
            "needs_background": "light"
          }
        }
      ]
    },
    {
      "cell_type": "markdown",
      "metadata": {
        "id": "SrhsGOOtAmj6"
      },
      "source": [
        "- 최종 Lasso 모델 선정"
      ]
    },
    {
      "cell_type": "code",
      "metadata": {
        "colab": {
          "base_uri": "https://localhost:8080/"
        },
        "id": "B-7ZtTa0_W5O",
        "outputId": "7aa2f9b2-88f1-446f-cee5-c16f28d960fd"
      },
      "source": [
        "lasso = Lasso(alpha=1)\n",
        "lasso.fit(train_poly_scaled_X, train_Y)\n",
        "\n",
        "\n",
        "print(\"Rosso's Score\")\n",
        "print(f\"Train's Score: {lasso.score(train_poly_scaled_X, train_Y)}\")\n",
        "print(f\"Test's Score: {lasso.score(test_poly_scaled_X, test_Y)}\")"
      ],
      "execution_count": 58,
      "outputs": [
        {
          "output_type": "stream",
          "text": [
            "Rosso's Score\n",
            "Train's Score: 0.9865912554645588\n",
            "Test's Score: 0.9846056618190413\n"
          ],
          "name": "stdout"
        }
      ]
    },
    {
      "cell_type": "markdown",
      "metadata": {
        "id": "g4mcUJz6A38O"
      },
      "source": [
        ""
      ]
    },
    {
      "cell_type": "code",
      "metadata": {
        "colab": {
          "base_uri": "https://localhost:8080/"
        },
        "id": "L81F29xNA5gW",
        "outputId": "35d7afc3-8c21-4501-d99e-4f6dceec1066"
      },
      "source": [
        "# lasso 모델의 계수\n",
        "print('lasso coef = ', len(lasso.coef_))\n",
        "print(type(lasso.coef_))\n",
        "print(lasso.coef_)\n",
        "\n",
        "# lasso는 계수를 0으로 만들 수 있음\n",
        "print(\"count of features equal to 0 = \", np.sum(lasso.coef_ == 0))"
      ],
      "execution_count": 65,
      "outputs": [
        {
          "output_type": "stream",
          "text": [
            "lasso coef =  9\n",
            "<class 'numpy.ndarray'>\n",
            "[ -0.         -75.17036118  -0.          47.65512744 146.84457339\n",
            "   9.1970512  157.66441571   0.          62.6831403 ]\n",
            "count of features equal to 0 =  3\n"
          ],
          "name": "stdout"
        }
      ]
    },
    {
      "cell_type": "code",
      "metadata": {
        "id": "Sf6V-xCqA7ee"
      },
      "source": [
        ""
      ],
      "execution_count": null,
      "outputs": []
    }
  ]
}