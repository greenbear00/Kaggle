{
  "nbformat": 4,
  "nbformat_minor": 0,
  "metadata": {
    "colab": {
      "name": "sklearn_multiclass_classification.ipynb",
      "provenance": [],
      "collapsed_sections": [],
      "toc_visible": true
    },
    "kernelspec": {
      "name": "python3",
      "display_name": "Python 3"
    },
    "language_info": {
      "name": "python"
    }
  },
  "cells": [
    {
      "cell_type": "markdown",
      "metadata": {
        "id": "4AjSBq3VEXi_"
      },
      "source": [
        "# 다중 분류 (multi-class classification)\n",
        "\n",
        "## 데이터 소개\n",
        "- fish에 대한 weight, length, diagonal, height, width를 가지고 주어진 생선 종류(총 7개) 중 어디에 유사한 생선인지를 맞추는 문제"
      ]
    },
    {
      "cell_type": "code",
      "metadata": {
        "colab": {
          "base_uri": "https://localhost:8080/",
          "height": 204
        },
        "id": "va7IKnTwERvP",
        "outputId": "9ca1feae-d0a5-4053-8f50-942a6e00be25"
      },
      "source": [
        "import pandas as pd\n",
        "fish = pd.read_csv('https://bit.ly/fish_csv_data')\n",
        "fish.head()"
      ],
      "execution_count": 2,
      "outputs": [
        {
          "output_type": "execute_result",
          "data": {
            "text/html": [
              "<div>\n",
              "<style scoped>\n",
              "    .dataframe tbody tr th:only-of-type {\n",
              "        vertical-align: middle;\n",
              "    }\n",
              "\n",
              "    .dataframe tbody tr th {\n",
              "        vertical-align: top;\n",
              "    }\n",
              "\n",
              "    .dataframe thead th {\n",
              "        text-align: right;\n",
              "    }\n",
              "</style>\n",
              "<table border=\"1\" class=\"dataframe\">\n",
              "  <thead>\n",
              "    <tr style=\"text-align: right;\">\n",
              "      <th></th>\n",
              "      <th>Species</th>\n",
              "      <th>Weight</th>\n",
              "      <th>Length</th>\n",
              "      <th>Diagonal</th>\n",
              "      <th>Height</th>\n",
              "      <th>Width</th>\n",
              "    </tr>\n",
              "  </thead>\n",
              "  <tbody>\n",
              "    <tr>\n",
              "      <th>0</th>\n",
              "      <td>Bream</td>\n",
              "      <td>242.0</td>\n",
              "      <td>25.4</td>\n",
              "      <td>30.0</td>\n",
              "      <td>11.5200</td>\n",
              "      <td>4.0200</td>\n",
              "    </tr>\n",
              "    <tr>\n",
              "      <th>1</th>\n",
              "      <td>Bream</td>\n",
              "      <td>290.0</td>\n",
              "      <td>26.3</td>\n",
              "      <td>31.2</td>\n",
              "      <td>12.4800</td>\n",
              "      <td>4.3056</td>\n",
              "    </tr>\n",
              "    <tr>\n",
              "      <th>2</th>\n",
              "      <td>Bream</td>\n",
              "      <td>340.0</td>\n",
              "      <td>26.5</td>\n",
              "      <td>31.1</td>\n",
              "      <td>12.3778</td>\n",
              "      <td>4.6961</td>\n",
              "    </tr>\n",
              "    <tr>\n",
              "      <th>3</th>\n",
              "      <td>Bream</td>\n",
              "      <td>363.0</td>\n",
              "      <td>29.0</td>\n",
              "      <td>33.5</td>\n",
              "      <td>12.7300</td>\n",
              "      <td>4.4555</td>\n",
              "    </tr>\n",
              "    <tr>\n",
              "      <th>4</th>\n",
              "      <td>Bream</td>\n",
              "      <td>430.0</td>\n",
              "      <td>29.0</td>\n",
              "      <td>34.0</td>\n",
              "      <td>12.4440</td>\n",
              "      <td>5.1340</td>\n",
              "    </tr>\n",
              "  </tbody>\n",
              "</table>\n",
              "</div>"
            ],
            "text/plain": [
              "  Species  Weight  Length  Diagonal   Height   Width\n",
              "0   Bream   242.0    25.4      30.0  11.5200  4.0200\n",
              "1   Bream   290.0    26.3      31.2  12.4800  4.3056\n",
              "2   Bream   340.0    26.5      31.1  12.3778  4.6961\n",
              "3   Bream   363.0    29.0      33.5  12.7300  4.4555\n",
              "4   Bream   430.0    29.0      34.0  12.4440  5.1340"
            ]
          },
          "metadata": {
            "tags": []
          },
          "execution_count": 2
        }
      ]
    },
    {
      "cell_type": "code",
      "metadata": {
        "colab": {
          "base_uri": "https://localhost:8080/"
        },
        "id": "sQYlFLdaEoXI",
        "outputId": "14cdc10d-6350-4dbe-c437-1f50b6229939"
      },
      "source": [
        "fish['Species'].unique()"
      ],
      "execution_count": 3,
      "outputs": [
        {
          "output_type": "execute_result",
          "data": {
            "text/plain": [
              "array(['Bream', 'Roach', 'Whitefish', 'Parkki', 'Perch', 'Pike', 'Smelt'],\n",
              "      dtype=object)"
            ]
          },
          "metadata": {
            "tags": []
          },
          "execution_count": 3
        }
      ]
    },
    {
      "cell_type": "code",
      "metadata": {
        "colab": {
          "base_uri": "https://localhost:8080/",
          "height": 204
        },
        "id": "u9tfPNNxExhl",
        "outputId": "31973150-46ac-453d-f3a0-413f32c2d331"
      },
      "source": [
        "fish_train_pdf = fish[['Weight', 'Length', 'Diagonal', 'Height', 'Width']]\n",
        "fish_train_pdf[:5]"
      ],
      "execution_count": 4,
      "outputs": [
        {
          "output_type": "execute_result",
          "data": {
            "text/html": [
              "<div>\n",
              "<style scoped>\n",
              "    .dataframe tbody tr th:only-of-type {\n",
              "        vertical-align: middle;\n",
              "    }\n",
              "\n",
              "    .dataframe tbody tr th {\n",
              "        vertical-align: top;\n",
              "    }\n",
              "\n",
              "    .dataframe thead th {\n",
              "        text-align: right;\n",
              "    }\n",
              "</style>\n",
              "<table border=\"1\" class=\"dataframe\">\n",
              "  <thead>\n",
              "    <tr style=\"text-align: right;\">\n",
              "      <th></th>\n",
              "      <th>Weight</th>\n",
              "      <th>Length</th>\n",
              "      <th>Diagonal</th>\n",
              "      <th>Height</th>\n",
              "      <th>Width</th>\n",
              "    </tr>\n",
              "  </thead>\n",
              "  <tbody>\n",
              "    <tr>\n",
              "      <th>0</th>\n",
              "      <td>242.0</td>\n",
              "      <td>25.4</td>\n",
              "      <td>30.0</td>\n",
              "      <td>11.5200</td>\n",
              "      <td>4.0200</td>\n",
              "    </tr>\n",
              "    <tr>\n",
              "      <th>1</th>\n",
              "      <td>290.0</td>\n",
              "      <td>26.3</td>\n",
              "      <td>31.2</td>\n",
              "      <td>12.4800</td>\n",
              "      <td>4.3056</td>\n",
              "    </tr>\n",
              "    <tr>\n",
              "      <th>2</th>\n",
              "      <td>340.0</td>\n",
              "      <td>26.5</td>\n",
              "      <td>31.1</td>\n",
              "      <td>12.3778</td>\n",
              "      <td>4.6961</td>\n",
              "    </tr>\n",
              "    <tr>\n",
              "      <th>3</th>\n",
              "      <td>363.0</td>\n",
              "      <td>29.0</td>\n",
              "      <td>33.5</td>\n",
              "      <td>12.7300</td>\n",
              "      <td>4.4555</td>\n",
              "    </tr>\n",
              "    <tr>\n",
              "      <th>4</th>\n",
              "      <td>430.0</td>\n",
              "      <td>29.0</td>\n",
              "      <td>34.0</td>\n",
              "      <td>12.4440</td>\n",
              "      <td>5.1340</td>\n",
              "    </tr>\n",
              "  </tbody>\n",
              "</table>\n",
              "</div>"
            ],
            "text/plain": [
              "   Weight  Length  Diagonal   Height   Width\n",
              "0   242.0    25.4      30.0  11.5200  4.0200\n",
              "1   290.0    26.3      31.2  12.4800  4.3056\n",
              "2   340.0    26.5      31.1  12.3778  4.6961\n",
              "3   363.0    29.0      33.5  12.7300  4.4555\n",
              "4   430.0    29.0      34.0  12.4440  5.1340"
            ]
          },
          "metadata": {
            "tags": []
          },
          "execution_count": 4
        }
      ]
    },
    {
      "cell_type": "code",
      "metadata": {
        "colab": {
          "base_uri": "https://localhost:8080/"
        },
        "id": "-bMkIZdiFEDH",
        "outputId": "6df84e9a-941a-4578-c328-49638caf729b"
      },
      "source": [
        "fish_train = fish_train_pdf.to_numpy()\n",
        "fish_target = fish['Species'].to_numpy()\n",
        "\n",
        "print(f\"fish_train = {fish_train[:5]}\")\n",
        "print(f\"fish_target = {fish_target[:5]}\")"
      ],
      "execution_count": 5,
      "outputs": [
        {
          "output_type": "stream",
          "text": [
            "fish_train = [[242.      25.4     30.      11.52     4.02  ]\n",
            " [290.      26.3     31.2     12.48     4.3056]\n",
            " [340.      26.5     31.1     12.3778   4.6961]\n",
            " [363.      29.      33.5     12.73     4.4555]\n",
            " [430.      29.      34.      12.444    5.134 ]]\n",
            "fish_target = ['Bream' 'Bream' 'Bream' 'Bream' 'Bream']\n"
          ],
          "name": "stdout"
        }
      ]
    },
    {
      "cell_type": "code",
      "metadata": {
        "id": "18FsbTf6FNHo"
      },
      "source": [
        "from sklearn.model_selection import train_test_split\n",
        "\n",
        "train_X, test_X, train_Y, test_Y = train_test_split(fish_train, fish_target, random_state=42)"
      ],
      "execution_count": 6,
      "outputs": []
    },
    {
      "cell_type": "code",
      "metadata": {
        "id": "k-ZVKYu5FuO8"
      },
      "source": [
        "# 정규화 수행\n",
        "from sklearn.preprocessing import StandardScaler\n",
        "\n",
        "ss = StandardScaler()\n",
        "ss.fit(train_X)\n",
        "\n",
        "train_scaled_X = ss.transform(train_X)\n",
        "test_scaled_X = ss.transform(test_X)"
      ],
      "execution_count": 7,
      "outputs": []
    },
    {
      "cell_type": "markdown",
      "metadata": {
        "id": "r_MQEuaRGhRl"
      },
      "source": [
        "## KNeighborsClassifier"
      ]
    },
    {
      "cell_type": "code",
      "metadata": {
        "colab": {
          "base_uri": "https://localhost:8080/"
        },
        "id": "Aa0-XNMyGh1E",
        "outputId": "055631aa-e0c6-459b-d99d-c0964c6e0c82"
      },
      "source": [
        "from sklearn.neighbors import KNeighborsClassifier\n",
        "\n",
        "kn = KNeighborsClassifier(n_neighbors=3)\n",
        "kn.fit(train_scaled_X, train_Y)\n",
        "\n",
        "print(\"KNeighborsClassifier's score\")\n",
        "print(f\"train's score : {kn.score(train_scaled_X, train_Y)}\")\n",
        "print(f\"test's score : {kn.score(test_scaled_X, test_Y)}\")"
      ],
      "execution_count": 8,
      "outputs": [
        {
          "output_type": "stream",
          "text": [
            "KNeighborsClassifier's score\n",
            "train's score : 0.8907563025210085\n",
            "test's score : 0.85\n"
          ],
          "name": "stdout"
        }
      ]
    },
    {
      "cell_type": "code",
      "metadata": {
        "colab": {
          "base_uri": "https://localhost:8080/"
        },
        "id": "40O0WjEpHBgJ",
        "outputId": "ee14e9ba-e8fe-4887-f598-6986a061591f"
      },
      "source": [
        "kn.classes_"
      ],
      "execution_count": 9,
      "outputs": [
        {
          "output_type": "execute_result",
          "data": {
            "text/plain": [
              "array(['Bream', 'Parkki', 'Perch', 'Pike', 'Roach', 'Smelt', 'Whitefish'],\n",
              "      dtype=object)"
            ]
          },
          "metadata": {
            "tags": []
          },
          "execution_count": 9
        }
      ]
    },
    {
      "cell_type": "markdown",
      "metadata": {
        "id": "fXLc9bxDJiNo"
      },
      "source": [
        "### 예측 및 예측 확률 확인"
      ]
    },
    {
      "cell_type": "code",
      "metadata": {
        "colab": {
          "base_uri": "https://localhost:8080/"
        },
        "id": "iF6whauLIDHG",
        "outputId": "4d928f95-c816-45e5-cf14-1f026a6167fe"
      },
      "source": [
        "import numpy as np\n",
        "\n",
        "pred = kn.predict(test_scaled_X[:5])\n",
        "\n",
        "print('predict of test_scaled_X[:5] : ', pred)\n",
        "\n",
        "\n",
        "# ['Bream', 'Parkki', 'Perch', 'Pike', 'Roach', 'Smelt', 'Whitefish']\n",
        "print(\"\\n\", \"*\"*70)\n",
        "print(\"predcit probability of test_scaled_X[:5]\")\n",
        "proba = kn.predict_proba(test_scaled_X[:5])\n",
        "print(np.round(proba, decimals=4)) # np.round에서 decimals=4로 하면, 소수점 4자리까지 표시"
      ],
      "execution_count": 10,
      "outputs": [
        {
          "output_type": "stream",
          "text": [
            "predict of test_scaled_X[:5] :  ['Perch' 'Smelt' 'Pike' 'Perch' 'Perch']\n",
            "\n",
            " **********************************************************************\n",
            "predcit probability of test_scaled_X[:5]\n",
            "[[0.     0.     1.     0.     0.     0.     0.    ]\n",
            " [0.     0.     0.     0.     0.     1.     0.    ]\n",
            " [0.     0.     0.     1.     0.     0.     0.    ]\n",
            " [0.     0.     0.6667 0.     0.3333 0.     0.    ]\n",
            " [0.     0.     0.6667 0.     0.3333 0.     0.    ]]\n"
          ],
          "name": "stdout"
        }
      ]
    },
    {
      "cell_type": "markdown",
      "metadata": {
        "id": "FnjQvl9vJoU8"
      },
      "source": [
        "### 이웃점 확인"
      ]
    },
    {
      "cell_type": "code",
      "metadata": {
        "colab": {
          "base_uri": "https://localhost:8080/"
        },
        "id": "UFGeq3axIRvg",
        "outputId": "9f3ae7ac-d7de-4f43-de16-75f69b9a650a"
      },
      "source": [
        "distance, indexes = kn.kneighbors(test_scaled_X[3:4])\n",
        "train_Y[indexes]"
      ],
      "execution_count": 11,
      "outputs": [
        {
          "output_type": "execute_result",
          "data": {
            "text/plain": [
              "array([['Roach', 'Perch', 'Perch']], dtype=object)"
            ]
          },
          "metadata": {
            "tags": []
          },
          "execution_count": 11
        }
      ]
    },
    {
      "cell_type": "markdown",
      "metadata": {
        "id": "t_oy-srJLKq_"
      },
      "source": [
        "## Logistic Regression\n",
        "\n",
        "- 확률문제이기 때문에 출력값을 0~1 사이의 값을 바꿔줘야 하고, 이를 위해 다양한 활성화 함수가 존재\n",
        "  - 대표적인 시그모이드 함수(sigmod): 무한한 음수일 경우 0, 무한한 양수일 경우 1\n",
        "\n",
        "\n"
      ]
    },
    {
      "cell_type": "markdown",
      "metadata": {
        "id": "npWAyp5bNBnK"
      },
      "source": [
        "### 시그모이드 함수\n",
        "\n"
      ]
    },
    {
      "cell_type": "code",
      "metadata": {
        "colab": {
          "base_uri": "https://localhost:8080/",
          "height": 279
        },
        "id": "xhUPKk4FJ6KE",
        "outputId": "78327187-b753-475c-e719-edb08163adc6"
      },
      "source": [
        "import numpy as np\n",
        "import matplotlib.pyplot as plt\n",
        "\n",
        "z = np.arange(-5, 5, 0.1)\n",
        "phi = 1 / (1+np.exp(-z)) # 1/1+e^-z\n",
        "plt.plot(z, phi)\n",
        "plt.xlabel('z')\n",
        "plt.ylabel('phi')\n",
        "plt.show()"
      ],
      "execution_count": 12,
      "outputs": [
        {
          "output_type": "display_data",
          "data": {
            "image/png": "[encoded data removed]",
            "text/plain": [
              "<Figure size 432x288 with 1 Axes>"
            ]
          },
          "metadata": {
            "tags": [],
            "needs_background": "light"
          }
        }
      ]
    },
    {
      "cell_type": "markdown",
      "metadata": {
        "id": "k4seznk9M7wU"
      },
      "source": [
        "### 이진분류 logistic regression"
      ]
    },
    {
      "cell_type": "code",
      "metadata": {
        "colab": {
          "base_uri": "https://localhost:8080/"
        },
        "id": "uIfmTLqYMe1x",
        "outputId": "3e5e538a-cd1c-4ed4-e2ab-f90f98cc4f4c"
      },
      "source": [
        "# 도미(bream), 빙어(smelt) 만 추출\n",
        "bream_smelt_indexes = (train_Y=='Bream') | (train_Y=='Smelt')\n",
        "train_bream_smelt = train_scaled_X[bream_smelt_indexes]\n",
        "target_bream_smelt = train_Y[bream_smelt_indexes]\n",
        "\n",
        "from sklearn.linear_model import LogisticRegression\n",
        "lr = LogisticRegression()\n",
        "lr.fit(train_bream_smelt, target_bream_smelt)\n",
        "\n",
        "\n",
        "print(\"predict of train_bream_smelt[:5] : \", lr.predict(train_bream_smelt[:5]))\n",
        "print(\"predict probability of train_bream_smelt[:5]\")\n",
        "print(lr.predict_proba(train_bream_smelt[:5]))\n",
        "print(lr.classes_) # Bream이 음성 클래스, Smelt가 양성 클래스(시그모이드 기준)\n",
        "print(lr.coef_, lr.intercept_)"
      ],
      "execution_count": 13,
      "outputs": [
        {
          "output_type": "stream",
          "text": [
            "predict of train_bream_smelt[:5] :  ['Bream' 'Smelt' 'Bream' 'Bream' 'Bream']\n",
            "predict probability of train_bream_smelt[:5]\n",
            "[[0.99759855 0.00240145]\n",
            " [0.02735183 0.97264817]\n",
            " [0.99486072 0.00513928]\n",
            " [0.98584202 0.01415798]\n",
            " [0.99767269 0.00232731]]\n",
            "['Bream' 'Smelt']\n",
            "[[-0.4037798  -0.57620209 -0.66280298 -1.01290277 -0.73168947]] [-2.16155132]\n"
          ],
          "name": "stdout"
        }
      ]
    },
    {
      "cell_type": "markdown",
      "metadata": {
        "id": "iCpJwN2kPskX"
      },
      "source": [
        "### 다중분류 logistic regression\n",
        "\n",
        "- 다중 분류에서는 softmax 함수를 적용\n",
        "  - softmax는 여러 개의 선형 방정식의 출력값을 0~1 사이로 압축하고, 전체 합이 1이 되도록 만듬. 이를 위해 지수 함수를 사용하기 때문에 정규화된 지수 함수라고도 불림"
      ]
    },
    {
      "cell_type": "code",
      "metadata": {
        "id": "rkafPMWsNdmI",
        "colab": {
          "base_uri": "https://localhost:8080/"
        },
        "outputId": "17b21949-5f67-46d0-ef40-511f4c28ff63"
      },
      "source": [
        "# C : 계수의 규제를 의미 (default:1이고 값이 작을수록 규제가 커짐)\n",
        "# max_inter : 딥러닝의 epoch처럼 학습 횟수를 의미\n",
        "lr = LogisticRegression(C=20, max_iter=1000) \n",
        "\n",
        "lr.fit(train_scaled_X, train_Y)"
      ],
      "execution_count": 14,
      "outputs": [
        {
          "output_type": "execute_result",
          "data": {
            "text/plain": [
              "LogisticRegression(C=20, class_weight=None, dual=False, fit_intercept=True,\n",
              "                   intercept_scaling=1, l1_ratio=None, max_iter=1000,\n",
              "                   multi_class='auto', n_jobs=None, penalty='l2',\n",
              "                   random_state=None, solver='lbfgs', tol=0.0001, verbose=0,\n",
              "                   warm_start=False)"
            ]
          },
          "metadata": {
            "tags": []
          },
          "execution_count": 14
        }
      ]
    },
    {
      "cell_type": "code",
      "metadata": {
        "colab": {
          "base_uri": "https://localhost:8080/"
        },
        "id": "JfU-wr2wWlei",
        "outputId": "6d523154-f82e-487c-8b08-d5a211bcf075"
      },
      "source": [
        "print(\"Logistic Regression's score\")\n",
        "print(f\"train's score : {lr.score(train_scaled_X, train_Y)}\")\n",
        "print(f\"test's score : {lr.score(test_scaled_X, test_Y)}\")"
      ],
      "execution_count": 15,
      "outputs": [
        {
          "output_type": "stream",
          "text": [
            "Logistic Regression's score\n",
            "train's score : 0.9327731092436975\n",
            "test's score : 0.925\n"
          ],
          "name": "stdout"
        }
      ]
    },
    {
      "cell_type": "code",
      "metadata": {
        "colab": {
          "base_uri": "https://localhost:8080/"
        },
        "id": "ddZGpxwEW7Og",
        "outputId": "f7af19c3-8e39-4911-956f-cfefc24def74"
      },
      "source": [
        "print(\"predict of test_scaled_X[:5]\")\n",
        "print(lr.predict(test_scaled_X[:5]))\n",
        "\n",
        "proba = lr.predict_proba(test_scaled_X[:5])\n",
        "print(\"predict probability of test_scaled_X[:5]\")\n",
        "print(np.round(proba, decimals=3))\n",
        "\n",
        "print(\"\\n\", \"=\"*70)\n",
        "print(f\"lr.classes_ = {lr.classes_}\")\n",
        "print(f\"lr.coef_ = {lr.coef_}, {lr.coef_.shape}\")\n",
        "print(f\"lr.intercept_ = {lr.intercept_}, {lr.intercept_.shape}\")"
      ],
      "execution_count": 23,
      "outputs": [
        {
          "output_type": "stream",
          "text": [
            "predict of test_scaled_X[:5]\n",
            "['Perch' 'Smelt' 'Pike' 'Roach' 'Perch']\n",
            "predict probability of test_scaled_X[:5]\n",
            "[[0.    0.014 0.841 0.    0.136 0.007 0.003]\n",
            " [0.    0.003 0.044 0.    0.007 0.946 0.   ]\n",
            " [0.    0.    0.034 0.935 0.015 0.016 0.   ]\n",
            " [0.011 0.034 0.306 0.007 0.567 0.    0.076]\n",
            " [0.    0.    0.904 0.002 0.089 0.002 0.001]]\n",
            "\n",
            " ======================================================================\n",
            "lr.classes_ = ['Bream' 'Parkki' 'Perch' 'Pike' 'Roach' 'Smelt' 'Whitefish']\n",
            "lr.coef_ = [[-1.49002911 -1.02919221  2.59351113  7.70354318 -1.20068079]\n",
            " [ 0.19619256 -2.0106062  -3.77982687  6.50490143 -1.99486463]\n",
            " [ 3.56278472  6.34361428 -8.48973364 -5.75756295  3.79309039]\n",
            " [-0.10458533  3.60316654  3.93067417 -3.61731229 -1.75070607]\n",
            " [-1.40059104 -6.07505264  5.25967743 -0.87222909  1.86043657]\n",
            " [-1.38528628  1.49217379  1.3922839  -5.67732641 -4.40095877]\n",
            " [ 0.62151448 -2.32410356 -0.90658611  1.71598614  3.69368329]], (7, 5)\n",
            "lr.intercept_ = [-0.09204845 -0.26290731  3.25101057 -0.14742485  2.65496057 -6.78780765\n",
            "  1.38421712], (7,)\n"
          ],
          "name": "stdout"
        }
      ]
    },
    {
      "cell_type": "code",
      "metadata": {
        "id": "4GMzSgkeXDT1"
      },
      "source": [
        ""
      ],
      "execution_count": null,
      "outputs": []
    }
  ]
}