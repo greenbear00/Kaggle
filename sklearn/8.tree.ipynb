{
  "nbformat": 4,
  "nbformat_minor": 0,
  "metadata": {
    "colab": {
      "name": "8.tree.ipynb",
      "provenance": [],
      "toc_visible": true
    },
    "kernelspec": {
      "name": "python3",
      "display_name": "Python 3"
    },
    "language_info": {
      "name": "python"
    }
  },
  "cells": [
    {
      "cell_type": "markdown",
      "metadata": {
        "id": "BNT9EGXC3cW-"
      },
      "source": [
        "# random forest\n",
        "- 앙상블 학습의 대표 주자\n",
        "- 훈련 데이터에서 랜덤하게 샘플을 추출하여 훈련 데이터를 만듬 ( 중복 발생 가능) => 부트스트랩 새플(bootstrap sample, 데이터 세트에서 중복 허용)\n",
        "- 랜덤하게 선택한 샘플과 특성을 사용하기 때문에 훈련 세트에 과대적합 되는것을 막아주고\n",
        "- 검증세트와 테스트 세트에서 안정적인 성능을 얻을 수 있음\n",
        "\n"
      ]
    },
    {
      "cell_type": "code",
      "metadata": {
        "id": "iecwOfHD4db_"
      },
      "source": [
        "import numpy as np\n",
        "import pandas as pd\n",
        "from sklearn.model_selection import train_test_split\n",
        "wine = pd.read_csv('https://bit.ly/wine_csv_data')\n",
        "data = wine[['alcohol', 'sugar', 'pH']].to_numpy()\n",
        "target = wine['class'].to_numpy()\n",
        "\n",
        "train_input, test_input, train_target, test_target = train_test_split(data, target, test_size=0.2, random_state=42)"
      ],
      "execution_count": 1,
      "outputs": []
    },
    {
      "cell_type": "code",
      "metadata": {
        "colab": {
          "base_uri": "https://localhost:8080/"
        },
        "id": "u_X3ymoo7fr4",
        "outputId": "35ff772c-0256-4996-fe23-8970ae235198"
      },
      "source": [
        "from sklearn.model_selection import cross_validate\n",
        "from sklearn.ensemble import RandomForestClassifier\n",
        "\n",
        "rf = RandomForestClassifier(n_jobs=-1, random_state=42)\n",
        "\n",
        "scores = cross_validate(rf, train_input, train_target, return_train_score=True, n_jobs=-1)\n",
        "for k, v in scores.items():\n",
        "  print(k, v)\n",
        "print(np.mean(scores['train_score']), np.mean(scores['test_score']))"
      ],
      "execution_count": 2,
      "outputs": [
        {
          "output_type": "stream",
          "text": [
            "fit_time [0.68380952 0.58343172 0.65770268 0.58043933 0.45149183]\n",
            "score_time [0.10766935 0.10225987 0.1034832  0.10220242 0.10226512]\n",
            "test_score [0.88461538 0.88942308 0.90279115 0.88931665 0.88642926]\n",
            "train_score [0.9971133  0.99663219 0.9978355  0.9973545  0.9978355 ]\n",
            "0.9973541965122431 0.8905151032797809\n"
          ],
          "name": "stdout"
        }
      ]
    },
    {
      "cell_type": "code",
      "metadata": {
        "colab": {
          "base_uri": "https://localhost:8080/"
        },
        "id": "SeI_l7l48PSE",
        "outputId": "76d98033-331d-4a0c-8355-f7a32b2c177d"
      },
      "source": [
        "rf.fit(train_input, train_target)\n",
        "# 'alcohol', 'sugar', 'pH'\n",
        "print(rf.feature_importances_)"
      ],
      "execution_count": 3,
      "outputs": [
        {
          "output_type": "stream",
          "text": [
            "[0.23167441 0.50039841 0.26792718]\n"
          ],
          "name": "stdout"
        }
      ]
    },
    {
      "cell_type": "markdown",
      "metadata": {
        "id": "wKge3Sa49AxO"
      },
      "source": [
        "## RandomForestClassifier's oob_score\n",
        "- 부트스트랩 샘플(중복 허용)을 만들어 결정 트리를 훈련, 이때 부트스트랩 샘플에 포함되지 않고 남는 샘플을 Out of Bag 샘플이라고 하여, 이 샘플로 검증을 수행함"
      ]
    },
    {
      "cell_type": "code",
      "metadata": {
        "colab": {
          "base_uri": "https://localhost:8080/"
        },
        "id": "BPe2jbgz9TwE",
        "outputId": "ce0b991e-72b0-4d15-b89c-fd900fb1ec0d"
      },
      "source": [
        "rf = RandomForestClassifier(oob_score=True, n_jobs=-1, random_state=42)\n",
        "rf.fit(train_input, train_target)\n",
        "print(rf.oob_score_)"
      ],
      "execution_count": 4,
      "outputs": [
        {
          "output_type": "stream",
          "text": [
            "0.8934000384837406\n"
          ],
          "name": "stdout"
        }
      ]
    },
    {
      "cell_type": "markdown",
      "metadata": {
        "id": "SFaYMTou9mMS"
      },
      "source": [
        "# Gradient Boosting\n",
        "- 깊이가 얕은 결정 트리를 사용, 과대적합에 강하고, 일반적으로 높은 일반화 성능\n"
      ]
    },
    {
      "cell_type": "code",
      "metadata": {
        "colab": {
          "base_uri": "https://localhost:8080/"
        },
        "id": "x8C2cON1UTL9",
        "outputId": "129ddef3-a50e-4a40-8619-b0d3afe21b5b"
      },
      "source": [
        "from sklearn.ensemble import GradientBoostingClassifier\n",
        "\n",
        "gb = GradientBoostingClassifier(random_state=42)\n",
        "scores = cross_validate(gb, train_input, train_target, return_train_score=True, n_jobs=-1)\n",
        "print(scores)\n",
        "print(np.mean(scores['train_score']), np.mean(scores['test_score']))"
      ],
      "execution_count": 13,
      "outputs": [
        {
          "output_type": "stream",
          "text": [
            "{'fit_time': array([0.52005076, 0.52520967, 0.52149487, 0.53356552, 0.34815049]), 'score_time': array([0.00412202, 0.00439501, 0.00403571, 0.00461769, 0.00391245]), 'test_score': array([0.86634615, 0.87019231, 0.89412897, 0.86044273, 0.86910491]), 'train_score': array([0.89006495, 0.88958383, 0.88239538, 0.89249639, 0.88600289])}\n",
            "0.8881086892152563 0.8720430147331015\n"
          ],
          "name": "stdout"
        }
      ]
    },
    {
      "cell_type": "code",
      "metadata": {
        "colab": {
          "base_uri": "https://localhost:8080/"
        },
        "id": "x-MumeZvUyqV",
        "outputId": "32bf0ce2-c7df-4c91-efca-02456471b166"
      },
      "source": [
        "\n",
        "gb = GradientBoostingClassifier(n_estimators=500, learning_rate=0.2, random_state=42)\n",
        "scores = cross_validate(gb, train_input, train_target, return_train_score=True, n_jobs=-1)\n",
        "\n",
        "print(scores)\n",
        "print(np.mean(scores['train_score']), np.mean(scores['test_score']))"
      ],
      "execution_count": 7,
      "outputs": [
        {
          "output_type": "stream",
          "text": [
            "{'fit_time': array([2.47571707, 2.48331618, 2.47680306, 2.48959398, 1.63700652]), 'score_time': array([0.01302719, 0.0130012 , 0.01347756, 0.01302195, 0.00912833]), 'test_score': array([0.875     , 0.87211538, 0.89701636, 0.8719923 , 0.87391723]), 'train_score': array([0.9494828 , 0.94443108, 0.94468494, 0.94324194, 0.95045695])}\n",
            "0.9464595437171814 0.8780082549788999\n"
          ],
          "name": "stdout"
        }
      ]
    },
    {
      "cell_type": "code",
      "metadata": {
        "colab": {
          "base_uri": "https://localhost:8080/"
        },
        "id": "P1dWeOtjVDIg",
        "outputId": "24e6b6b9-b9f7-435c-802f-55ba6d336f17"
      },
      "source": [
        "gb.fit(train_input, train_target)\n",
        "\n",
        "# wine[['alcohol', 'sugar', 'pH']].to_numpy()\n",
        "print(gb.feature_importances_)"
      ],
      "execution_count": 8,
      "outputs": [
        {
          "output_type": "stream",
          "text": [
            "[0.15872278 0.68010884 0.16116839]\n"
          ],
          "name": "stdout"
        }
      ]
    },
    {
      "cell_type": "markdown",
      "metadata": {
        "id": "lKIlYNazWwND"
      },
      "source": [
        "## xgboost\n"
      ]
    },
    {
      "cell_type": "code",
      "metadata": {
        "colab": {
          "base_uri": "https://localhost:8080/"
        },
        "id": "r4Zpx5IJVRtQ",
        "outputId": "11382acd-6913-434c-f84d-4b6046dc7027"
      },
      "source": [
        "from xgboost import XGBClassifier\n",
        "xgb = XGBClassifier(tree_method='hist', random_state=42)\n",
        "scores = cross_validate(xgb, train_input, train_target, return_train_score=True)\n",
        "\n",
        "print(scores)\n",
        "print(np.mean(scores['train_score']), np.mean(scores['test_score']))"
      ],
      "execution_count": 11,
      "outputs": [
        {
          "output_type": "stream",
          "text": [
            "{'fit_time': array([0.07817364, 0.06521797, 0.06423998, 0.07020569, 0.06615543]), 'score_time': array([0.00407147, 0.00397897, 0.0041008 , 0.00395489, 0.00431418]), 'test_score': array([0.86057692, 0.87115385, 0.89316651, 0.86236766, 0.87584216]), 'train_score': array([0.88669714, 0.87972095, 0.87782588, 0.88552189, 0.88239538])}\n",
            "0.8824322471423747 0.8726214185237284\n"
          ],
          "name": "stdout"
        }
      ]
    },
    {
      "cell_type": "markdown",
      "metadata": {
        "id": "DJL8p1XGXc-Z"
      },
      "source": [
        "## LightGBM"
      ]
    },
    {
      "cell_type": "code",
      "metadata": {
        "colab": {
          "base_uri": "https://localhost:8080/"
        },
        "id": "PSmwiftuXgLx",
        "outputId": "a0285b7c-9afa-4b83-cf15-af7b4b085b20"
      },
      "source": [
        "from lightgbm import LGBMClassifier\n",
        "\n",
        "lgb = LGBMClassifier(random_state=42)\n",
        "scores = cross_validate(lgb, train_input, train_target, return_train_score=True)\n",
        "\n",
        "print(scores)\n",
        "print(np.mean(scores['train_score']), np.mean(scores['test_score']))"
      ],
      "execution_count": 12,
      "outputs": [
        {
          "output_type": "stream",
          "text": [
            "{'fit_time': array([0.09331393, 0.08685398, 0.07536006, 0.08238935, 0.07152987]), 'score_time': array([0.00831389, 0.0093472 , 0.00797272, 0.00819659, 0.00927401]), 'test_score': array([0.86442308, 0.88076923, 0.90856593, 0.86429259, 0.87680462]), 'train_score': array([0.93312485, 0.93432764, 0.93217893, 0.93241943, 0.93698894])}\n",
            "0.9338079582727165 0.8789710890649293\n"
          ],
          "name": "stdout"
        }
      ]
    },
    {
      "cell_type": "code",
      "metadata": {
        "id": "Jx6tHeAbXvcp"
      },
      "source": [
        ""
      ],
      "execution_count": null,
      "outputs": []
    }
  ]
}