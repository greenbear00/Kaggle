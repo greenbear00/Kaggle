{
 "cells": [
  {
   "cell_type": "code",
   "execution_count": 86,
   "id": "5c4802b1",
   "metadata": {
    "ExecuteTime": {
     "end_time": "2021-07-14T15:07:33.213859Z",
     "start_time": "2021-07-14T15:07:33.059662Z"
    }
   },
   "outputs": [
    {
     "data": {
      "image/png": "[encoded data removed]",
      "text/plain": [
       "<Figure size 432x288 with 1 Axes>"
      ]
     },
     "metadata": {
      "needs_background": "light"
     },
     "output_type": "display_data"
    }
   ],
   "source": [
    "########################\n",
    "# 지도학습 - regression\n",
    "########################\n",
    "import matplotlib.pyplot as plt\n",
    "import numpy as np\n",
    "\n",
    "perch_length = np.array([8.4, 13.7, 15.0, 16.2, 17.4, 18.0, 18.7, 19.0, 19.6, 20.0, 21.0,\n",
    "       21.0, 21.0, 21.3, 22.0, 22.0, 22.0, 22.0, 22.0, 22.5, 22.5, 22.7,\n",
    "       23.0, 23.5, 24.0, 24.0, 24.6, 25.0, 25.6, 26.5, 27.3, 27.5, 27.5,\n",
    "       27.5, 28.0, 28.7, 30.0, 32.8, 34.5, 35.0, 36.5, 36.0, 37.0, 37.0,\n",
    "       39.0, 39.0, 39.0, 40.0, 40.0, 40.0, 40.0, 42.0, 43.0, 43.0, 43.5,\n",
    "       44.0])\n",
    "perch_weight = np.array([5.9, 32.0, 40.0, 51.5, 70.0, 100.0, 78.0, 80.0, 85.0, 85.0, 110.0,\n",
    "       115.0, 125.0, 130.0, 120.0, 120.0, 130.0, 135.0, 110.0, 130.0,\n",
    "       150.0, 145.0, 150.0, 170.0, 225.0, 145.0, 188.0, 180.0, 197.0,\n",
    "       218.0, 300.0, 260.0, 265.0, 250.0, 250.0, 300.0, 320.0, 514.0,\n",
    "       556.0, 840.0, 685.0, 700.0, 700.0, 690.0, 900.0, 650.0, 820.0,\n",
    "       850.0, 900.0, 1015.0, 820.0, 1100.0, 1000.0, 1100.0, 1000.0,\n",
    "       1000.0])\n",
    "\n",
    "plt.scatter(perch_length, perch_weight)\n",
    "plt.xlabel(\"length\")\n",
    "plt.ylabel(\"weight\")\n",
    "plt.show()"
   ]
  },
  {
   "cell_type": "code",
   "execution_count": 87,
   "id": "e793a527",
   "metadata": {
    "ExecuteTime": {
     "end_time": "2021-07-14T15:07:33.427402Z",
     "start_time": "2021-07-14T15:07:33.420618Z"
    }
   },
   "outputs": [
    {
     "name": "stdout",
     "output_type": "stream",
     "text": [
      "before X_train.shape= (42,), Y_target.shape= (42,)\n",
      "after X_train.shape= (42, 1), Y_target.shape= (42,)\n"
     ]
    }
   ],
   "source": [
    "# 훈련데이터와 검증 데이터 나누기\n",
    "from sklearn.model_selection import train_test_split\n",
    "X_train, X_test_train, Y_target, Y_test_target = \\\n",
    "    train_test_split(perch_length, perch_weight, random_state=42)\n",
    "print(f\"before X_train.shape= {X_train.shape}, Y_target.shape= {Y_target.shape}\")\n",
    "\n",
    "# sklearn은 훈련데이터가 2차원 이상의 배열로 되어 있어야 함\n",
    "X_train = X_train.reshape(-1, 1)\n",
    "X_test_train = X_test_train.reshape(-1, 1)\n",
    "print(f\"after X_train.shape= {X_train.shape}, Y_target.shape= {Y_target.shape}\")"
   ]
  },
  {
   "cell_type": "code",
   "execution_count": 88,
   "id": "759d42ff",
   "metadata": {
    "ExecuteTime": {
     "end_time": "2021-07-14T15:07:33.695645Z",
     "start_time": "2021-07-14T15:07:33.686048Z"
    }
   },
   "outputs": [
    {
     "name": "stdout",
     "output_type": "stream",
     "text": [
      "훈련데이터의 score = 0.9698823289099254\n",
      "검증데이터의 score = 0.992809406101064\n"
     ]
    }
   ],
   "source": [
    "from sklearn.neighbors import KNeighborsRegressor\n",
    "\n",
    "knr = KNeighborsRegressor()\n",
    "knr.fit(X_train, Y_target)\n",
    "\n",
    "# 분류(Classification)에서는 정답을 맞추는 정확도라고 하지만, \n",
    "# 회귀(Regression)에서는 정확한 숫자를 맞춘다는 것은 불가능하기에 정확도가 아닌 결정계수(R^2, Coefficient of determination)로 표현함\n",
    "# 테스트세트가 훈련세트보다 score가 더 높기 때문에 과소적합 (데이터가 적어서 발생함)\n",
    "print(f\"훈련데이터의 score = {knr.score(X_train, Y_target)}\")\n",
    "print(f\"검증데이터의 score = {knr.score(X_test_train, Y_test_target)}\")\n"
   ]
  },
  {
   "cell_type": "code",
   "execution_count": 89,
   "id": "cbd7fe20",
   "metadata": {
    "ExecuteTime": {
     "end_time": "2021-07-14T15:07:33.937651Z",
     "start_time": "2021-07-14T15:07:33.930439Z"
    }
   },
   "outputs": [
    {
     "name": "stdout",
     "output_type": "stream",
     "text": [
      "[  60.    79.6  248.   122.   136.   847.   311.4  183.4  847.   113.\n",
      " 1010.    60.   248.   248. ]\n",
      "mae = 19.157142857142862\n"
     ]
    }
   ],
   "source": [
    "y_pred = knr.predict(X_test_train)\n",
    "print(y_pred)\n",
    "\n",
    "# MAE : 실제 값과 예측 값의 차이(Error)를 절대값으로 변환해 평균화\n",
    "from sklearn.metrics import mean_absolute_error\n",
    "mae = mean_absolute_error(Y_test_target, y_pred)\n",
    "print(f\"mae = {mae}\")"
   ]
  },
  {
   "cell_type": "code",
   "execution_count": 90,
   "id": "9eccff41",
   "metadata": {
    "ExecuteTime": {
     "end_time": "2021-07-14T15:07:34.159206Z",
     "start_time": "2021-07-14T15:07:34.148831Z"
    }
   },
   "outputs": [
    {
     "name": "stdout",
     "output_type": "stream",
     "text": [
      "훈련데이터의 score = 0.9804899950518966\n",
      "검증데이터의 score = 0.9746459963987609\n"
     ]
    }
   ],
   "source": [
    "# 과소적합으로 학습을 더 많이 시킬려면, neighbors를 줄이는 방법이 있음 (모델이 복잡해짐)\n",
    "knr.n_neighbors = 3 # default 5\n",
    "\n",
    "knr.fit(X_train, Y_target)\n",
    "\n",
    "print(f\"훈련데이터의 score = {knr.score(X_train, Y_target)}\")\n",
    "print(f\"검증데이터의 score = {knr.score(X_test_train, Y_test_target)}\")"
   ]
  },
  {
   "cell_type": "code",
   "execution_count": 91,
   "id": "ca644fbe",
   "metadata": {
    "ExecuteTime": {
     "end_time": "2021-07-14T15:07:34.537341Z",
     "start_time": "2021-07-14T15:07:34.381982Z"
    }
   },
   "outputs": [
    {
     "name": "stdout",
     "output_type": "stream",
     "text": [
      "x=50 -> y_pred=[1033.33333333]\n",
      "new_x=100 -> new_y_pred=[1033.33333333]\n"
     ]
    },
    {
     "data": {
      "image/png": "[encoded data removed]",
      "text/plain": [
       "<Figure size 432x288 with 1 Axes>"
      ]
     },
     "metadata": {
      "needs_background": "light"
     },
     "output_type": "display_data"
    }
   ],
   "source": [
    "# 검증 50cm의 무게 예측\n",
    "# neighbors의 regressor는 이웃점간을 기준으로 예측이기에 훈련데이터 값을 넘어선 예측의 경우, 이웃에 근접한 예측을 하기에 오류 발생\n",
    "import matplotlib.pyplot as plt\n",
    "x = 50\n",
    "y_pred = knr.predict([[x]])\n",
    "print(f\"x={x} -> y_pred={y_pred}\")\n",
    "\n",
    "new_x = 100\n",
    "new_y_pred = knr.predict([[new_x]])\n",
    "print(f\"new_x={new_x} -> new_y_pred={new_y_pred}\")\n",
    "\n",
    "distance, indexes = knr.kneighbors([[50]])\n",
    "\n",
    "plt.scatter(X_train, Y_target)\n",
    "plt.scatter(X_train[indexes], Y_target[indexes], marker=\"D\")\n",
    "plt.scatter(new_x, new_y_pred, marker=\"^\")\n",
    "plt.scatter(x, y_pred, marker=\"^\")\n",
    "plt.xlabel(\"length\")\n",
    "plt.ylabel(\"weight\")\n",
    "plt.show()"
   ]
  },
  {
   "cell_type": "code",
   "execution_count": 92,
   "id": "ff476004",
   "metadata": {
    "ExecuteTime": {
     "end_time": "2021-07-14T15:07:34.784277Z",
     "start_time": "2021-07-14T15:07:34.612695Z"
    }
   },
   "outputs": [
    {
     "name": "stdout",
     "output_type": "stream",
     "text": [
      "x=50 -> y_pred=[1241.83860323]\n",
      "new_x=100 -> new_y_pred=[3192.69585141]\n"
     ]
    },
    {
     "data": {
      "image/png": "[encoded data removed]",
      "text/plain": [
       "<Figure size 432x288 with 1 Axes>"
      ]
     },
     "metadata": {
      "needs_background": "light"
     },
     "output_type": "display_data"
    }
   ],
   "source": [
    "# 선형회귀 모델 Y = a*x + b\n",
    "from sklearn.linear_model import LinearRegression\n",
    "lr = LinearRegression()\n",
    "\n",
    "lr.fit(X_train, Y_target)\n",
    "x = 50\n",
    "y_pred = lr.predict([[x]])\n",
    "print(f\"x={x} -> y_pred={y_pred}\")\n",
    "new_x = 100\n",
    "new_y_pred = lr.predict([[new_x]])\n",
    "print(f\"new_x={new_x} -> new_y_pred={new_y_pred}\")\n",
    "\n",
    "plt.scatter(X_train, Y_target)\n",
    "plt.scatter(new_x, new_y_pred, marker=\"^\")\n",
    "plt.scatter(x, y_pred, marker=\"^\")\n",
    "plt.xlabel(\"length\")\n",
    "plt.ylabel(\"weight\")\n",
    "plt.show()"
   ]
  },
  {
   "cell_type": "code",
   "execution_count": 93,
   "id": "8d1c69c7",
   "metadata": {
    "ExecuteTime": {
     "end_time": "2021-07-14T15:07:34.839441Z",
     "start_time": "2021-07-14T15:07:34.834838Z"
    }
   },
   "outputs": [
    {
     "name": "stdout",
     "output_type": "stream",
     "text": [
      "['__abstractmethods__', '__class__', '__delattr__', '__dict__', '__dir__', '__doc__', '__eq__', '__format__', '__ge__', '__getattribute__', '__getstate__', '__gt__', '__hash__', '__init__', '__init_subclass__', '__le__', '__lt__', '__module__', '__ne__', '__new__', '__reduce__', '__reduce_ex__', '__repr__', '__setattr__', '__setstate__', '__sizeof__', '__str__', '__subclasshook__', '__weakref__', '_abc_impl', '_check_n_features', '_decision_function', '_estimator_type', '_get_param_names', '_get_tags', '_more_tags', '_preprocess_data', '_repr_html_', '_repr_html_inner', '_repr_mimebundle_', '_residues', '_set_intercept', '_validate_data', 'coef_', 'copy_X', 'fit', 'fit_intercept', 'get_params', 'intercept_', 'n_features_in_', 'n_jobs', 'normalize', 'positive', 'predict', 'rank_', 'score', 'set_params', 'singular_']\n"
     ]
    }
   ],
   "source": [
    "# 선형회귀 모델의 functions\n",
    "print(dir(lr))"
   ]
  },
  {
   "cell_type": "code",
   "execution_count": 94,
   "id": "53c45bdf",
   "metadata": {
    "ExecuteTime": {
     "end_time": "2021-07-14T15:07:35.073294Z",
     "start_time": "2021-07-14T15:07:35.066734Z"
    }
   },
   "outputs": [
    {
     "name": "stdout",
     "output_type": "stream",
     "text": [
      "가중치=[39.01714496], 절편=-709.0186449535477\n",
      "[19.6 22.  18.7 17.4 36.  25.  40.  39.  43.  22. ]\n",
      "(42, 1)\n",
      "19.6 85.0\n"
     ]
    }
   ],
   "source": [
    "# 기울기(계수, coefficient) 또는 가중치(weight), 절편(intercept 또는 bias)\n",
    "print(f\"가중치={lr.coef_}, 절편={lr.intercept_}\")\n",
    "print(X_train[:10,0])\n",
    "print(X_train.shape)\n",
    "print(X_train[0,0], Y_target[0])"
   ]
  },
  {
   "cell_type": "code",
   "execution_count": 95,
   "id": "edfcec93",
   "metadata": {
    "ExecuteTime": {
     "end_time": "2021-07-14T15:07:35.498845Z",
     "start_time": "2021-07-14T15:07:35.279044Z"
    }
   },
   "outputs": [
    {
     "name": "stdout",
     "output_type": "stream",
     "text": [
      "x=50 -> y_pred=[1241.83860323]\n",
      "new_x1=2 -> new_y_pred1=[-630.98435503]\n",
      "new_x=100 -> new_y_pred=[3192.69585141]\n"
     ]
    },
    {
     "data": {
      "image/png": "[encoded data removed]",
      "text/plain": [
       "<Figure size 432x288 with 1 Axes>"
      ]
     },
     "metadata": {
      "needs_background": "light"
     },
     "output_type": "display_data"
    }
   ],
   "source": [
    "x = 50\n",
    "y_pred = lr.predict([[x]])\n",
    "print(f\"x={x} -> y_pred={y_pred}\")\n",
    "\n",
    "# length가 적은 숫자일 경우, weight가 음수가 나옴\n",
    "new_x1 = 2\n",
    "new_y_pred1 = lr.predict([[new_x1]])\n",
    "print(f\"new_x1={new_x1} -> new_y_pred1={new_y_pred1}\")\n",
    "\n",
    "new_x = 100\n",
    "new_y_pred = lr.predict([[new_x]])\n",
    "print(f\"new_x={new_x} -> new_y_pred={new_y_pred}\")\n",
    "\n",
    "plt.scatter(X_train, Y_target)\n",
    "plt.plot([X_train[0,0], Y_target[0]], [X_train[0,0]*lr.coef_+lr.intercept_, Y_target[0]*lr.coef_+lr.intercept_], 'r')\n",
    "plt.scatter(new_x, new_y_pred, marker=\"^\")\n",
    "plt.scatter(new_x1, new_y_pred1, marker=\"^\")\n",
    "plt.scatter(x, y_pred, marker=\"^\")\n",
    "plt.xlabel(\"length\")\n",
    "plt.ylabel(\"weight\")\n",
    "plt.show()"
   ]
  },
  {
   "cell_type": "code",
   "execution_count": 96,
   "id": "871f390b",
   "metadata": {
    "ExecuteTime": {
     "end_time": "2021-07-14T15:07:35.506756Z",
     "start_time": "2021-07-14T15:07:35.501587Z"
    }
   },
   "outputs": [
    {
     "name": "stdout",
     "output_type": "stream",
     "text": [
      "훈련데이터의 score = 0.939846333997604\n",
      "검증데이터의 score = 0.8247503123313558\n"
     ]
    }
   ],
   "source": [
    "# 결정계수 R^2 -> 검증데이터가 더 낮고, 차이가 많이 남. 과소적합\n",
    "print(f\"훈련데이터의 score = {lr.score(X_train, Y_target)}\")\n",
    "print(f\"검증데이터의 score = {lr.score(X_test_train, Y_test_target)}\")"
   ]
  },
  {
   "cell_type": "code",
   "execution_count": 97,
   "id": "b0e27ef6",
   "metadata": {
    "ExecuteTime": {
     "end_time": "2021-07-14T15:07:35.882223Z",
     "start_time": "2021-07-14T15:07:35.697568Z"
    }
   },
   "outputs": [
    {
     "name": "stdout",
     "output_type": "stream",
     "text": [
      "[[ 384.16   19.6 ]\n",
      " [ 484.     22.  ]\n",
      " [ 349.69   18.7 ]\n",
      " [ 302.76   17.4 ]\n",
      " [1296.     36.  ]\n",
      " [ 625.     25.  ]\n",
      " [1600.     40.  ]\n",
      " [1521.     39.  ]\n",
      " [1849.     43.  ]\n",
      " [ 484.     22.  ]]\n",
      "(42, 2)\n",
      "[8103.57880667]\n",
      "[60.50542483]\n",
      "new_x1=3 -> new_y_pred1=[60.50542483]\n",
      "new_x=100 -> new_y_pred=[8103.57880667]\n",
      "가중치=[  1.01433211 -21.55792498], 절편=116.05021078278259\n"
     ]
    },
    {
     "data": {
      "image/png": "[encoded data removed]",
      "text/plain": [
       "<Figure size 432x288 with 1 Axes>"
      ]
     },
     "metadata": {
      "needs_background": "light"
     },
     "output_type": "display_data"
    }
   ],
   "source": [
    "# 일직선 regression일 경우, length가 적어질 경우, weight가 (-)가 될 가능성이 있음.\n",
    "# 해결방법) linear regression -> 다항회귀로 변경 (y = a*x^2 + b*x + c : x=length, y=weight)\n",
    "new_train = np.column_stack((X_train**2, X_train))\n",
    "new_test = np.column_stack((X_test_train**2, X_test_train))\n",
    "\n",
    "print(new_train[:10])\n",
    "print(new_train.shape)\n",
    "\n",
    "new_lr = LinearRegression()\n",
    "new_lr.fit(new_train, Y_target)\n",
    "\n",
    "print(new_lr.predict([[100**2, 100]]))\n",
    "print(new_lr.predict([[3**2, 3]]))\n",
    "\n",
    "new_x1 = 3\n",
    "new_y_pred1 = new_lr.predict([[3**2, 3]])\n",
    "print(f\"new_x1={new_x1} -> new_y_pred1={new_y_pred1}\")\n",
    "\n",
    "new_x = 100\n",
    "new_y_pred = new_lr.predict([[100**2, 100]])\n",
    "print(f\"new_x={new_x} -> new_y_pred={new_y_pred}\")\n",
    "\n",
    "print(f\"가중치={new_lr.coef_}, 절편={new_lr.intercept_}\")\n",
    "\n",
    "point = np.arange(3, 100)\n",
    "\n",
    "plt.scatter(X_train, Y_target)\n",
    "plt.scatter(new_x, new_y_pred, marker=\"D\", color=\"g\")\n",
    "plt.scatter(new_x1, new_y_pred1, marker=\"D\", color=\"g\")\n",
    "plt.scatter(x, y_pred, marker=\"D\", color=\"g\")\n",
    "\n",
    "plt.plot(point, new_lr.coef_[0]*point**2 + new_lr.coef_[1]*point + new_lr.intercept_, 'r')\n",
    "plt.xlabel(\"length\")\n",
    "plt.ylabel(\"weight\")\n",
    "plt.show()"
   ]
  },
  {
   "cell_type": "code",
   "execution_count": 98,
   "id": "22dcd67b",
   "metadata": {
    "ExecuteTime": {
     "end_time": "2021-07-14T15:07:35.932652Z",
     "start_time": "2021-07-14T15:07:35.926505Z"
    }
   },
   "outputs": [
    {
     "name": "stdout",
     "output_type": "stream",
     "text": [
      "훈련데이터의 score = 0.9706807451768623\n",
      "검증데이터의 score = 0.9775935108325121\n"
     ]
    }
   ],
   "source": [
    "# 결정계수 R^2\n",
    "print(f\"훈련데이터의 score = {new_lr.score(new_train, Y_target)}\")\n",
    "print(f\"검증데이터의 score = {new_lr.score(new_test, Y_test_target)}\")"
   ]
  }
 ],
 "metadata": {
  "kernelspec": {
   "display_name": "Python 3",
   "language": "python",
   "name": "python3"
  },
  "language_info": {
   "codemirror_mode": {
    "name": "ipython",
    "version": 3
   },
   "file_extension": ".py",
   "mimetype": "text/x-python",
   "name": "python",
   "nbconvert_exporter": "python",
   "pygments_lexer": "ipython3",
   "version": "3.8.10"
  },
  "toc": {
   "base_numbering": 1,
   "nav_menu": {},
   "number_sections": false,
   "sideBar": true,
   "skip_h1_title": false,
   "title_cell": "Table of Contents",
   "title_sidebar": "Contents",
   "toc_cell": false,
   "toc_position": {},
   "toc_section_display": true,
   "toc_window_display": false
  }
 },
 "nbformat": 4,
 "nbformat_minor": 5
}
